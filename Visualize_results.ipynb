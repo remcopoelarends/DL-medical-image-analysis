{
 "cells": [
  {
   "cell_type": "markdown",
   "id": "ae53756c-7a8a-448c-a7eb-581e2353fa39",
   "metadata": {},
   "source": [
    "### Import dependencies"
   ]
  },
  {
   "cell_type": "code",
   "execution_count": 1,
   "id": "da1c9d62-fddf-4981-9732-1ae2a919a6f6",
   "metadata": {},
   "outputs": [],
   "source": [
    "import nibabel as nib\n",
    "import os\n",
    "import matplotlib.pyplot as plt\n",
    "import numpy as np"
   ]
  },
  {
   "cell_type": "markdown",
   "id": "5024e6f5-b9d0-4f3f-a2e1-576ff576d325",
   "metadata": {},
   "source": [
    "test"
   ]
  },
  {
   "cell_type": "code",
   "execution_count": 2,
   "id": "000d8df4-d640-4cb2-a3ea-4f82228f2276",
   "metadata": {},
   "outputs": [
    {
     "name": "stdout",
     "output_type": "stream",
     "text": [
      "patient148_frame01_gt.nii\n"
     ]
    }
   ],
   "source": [
    "model_name = 'FINAL_Postprocessed'\n",
    "gt_folder = './predictions/'+model_name+'/gt/'\n",
    "pred_folder = './predictions/'+model_name+'/pred'\n",
    "image_folder = './database/testing/'\n",
    "\n",
    "# Select first file\n",
    "file_name = \"patient148_frame01_gt.nii\" #os.listdir(gt_folder)[10]\n",
    "print(file_name)"
   ]
  },
  {
   "cell_type": "code",
   "execution_count": 3,
   "id": "81954d53-3b73-49dc-aad2-4b321cb01978",
   "metadata": {},
   "outputs": [
    {
     "name": "stdout",
     "output_type": "stream",
     "text": [
      "Image shape: (192, 256, 8)\n",
      "Image shape: (192, 256, 8)\n",
      "Image shape: (192, 256, 8)\n"
     ]
    }
   ],
   "source": [
    "image = nib.load(image_folder+\"/\"+file_name[0:10]+\"/\"+file_name[0:18]+\".nii\").get_fdata()\n",
    "gt_mask = nib.load(gt_folder+\"/\"+file_name).get_fdata()\n",
    "pred_mask = nib.load(pred_folder+\"/\"+file_name).get_fdata()\n",
    "\n",
    "\n",
    "# Print the shape of the image data\n",
    "print(\"Image shape:\", image.shape)\n",
    "print(\"Image shape:\", gt_mask.shape)\n",
    "print(\"Image shape:\", pred_mask.shape)"
   ]
  },
  {
   "cell_type": "code",
   "execution_count": null,
   "id": "e889be87-82c6-4ac4-99f5-eb7b45047231",
   "metadata": {},
   "outputs": [],
   "source": [
    "# Define the classes to visualize\n",
    "classes_to_visualize = [1, 2, 3]\n",
    "\n",
    "# Extract the desired slice for visualization\n",
    "slice_nr = 0\n",
    "image_slice = image[:, :, slice_nr]\n",
    "gt_slice = np.zeros_like(gt_mask[:, :, slice_nr])\n",
    "pred_slice = np.zeros_like(pred_mask[:, :, slice_nr])\n",
    "\n",
    "for class_index in classes_to_visualize:\n",
    "    class_mask = (gt_mask[:, :, slice_nr] == class_index)\n",
    "    gt_slice[class_mask] = class_index\n",
    "    class_mask = (pred_mask[:, :, slice_nr] == class_index)\n",
    "    pred_slice[class_mask] = class_index\n",
    "\n",
    "# Calculate the difference per class\n",
    "diff_slice = gt_slice - pred_slice\n",
    "\n",
    "offset = 100\n",
    "nonzero_indices = np.nonzero(diff_slice)\n",
    "y_min, y_max = np.min(nonzero_indices[0])-offset, np.max(nonzero_indices[0]+offset)\n",
    "x_min, x_max = np.min(nonzero_indices[1])-offset, np.max(nonzero_indices[1]+offset)\n",
    "\n",
    "# Plot the MR image, ground truth mask, and difference mask\n",
    "fig, axs = plt.subplots(1, 3, figsize=(18, 6))\n",
    "\n",
    "# Plot MR image\n",
    "axs[0].imshow(image_slice, cmap='gray')\n",
    "axs[0].set_title('MR Image')\n",
    "\n",
    "# Plot ground truth mask\n",
    "axs[1].imshow(image_slice, cmap='gray')\n",
    "axs[1].imshow(np.ma.masked_where(gt_slice == 0, gt_slice), alpha=0.4, cmap='jet', vmin=1, vmax=3)\n",
    "axs[1].set_title('Ground Truth Mask')\n",
    "\n",
    "# Plot prediction mask\n",
    "axs[2].imshow(image_slice, cmap='gray')\n",
    "axs[2].imshow(np.ma.masked_where(pred_slice == 0, pred_slice), alpha=0.4, cmap='jet', vmin=1, vmax=3)\n",
    "axs[2].set_title('Predicted Mask')\n",
    "\n",
    "# Hide the axis numbers\n",
    "for ax in axs:\n",
    "    ax.set_axis_off()\n",
    "\n",
    "# Autozoom on the region with non-zero mask values\n",
    "for ax in axs:\n",
    "    ax.set_xlim(x_min, x_max)\n",
    "    ax.set_ylim(y_min, y_max)    \n",
    "\n",
    "# Show the figure\n",
    "plt.savefig(\"Worst.png\")\n",
    "plt.show()\n"
   ]
  },
  {
   "cell_type": "code",
   "execution_count": 5,
   "id": "35cba8da-e0fa-4d0b-8e19-52f4d67dab20",
   "metadata": {},
   "outputs": [
    {
     "data": {
      "image/png": "[encoded data removed]",
      "text/plain": [
       "<Figure size 1800x600 with 3 Axes>"
      ]
     },
     "metadata": {},
     "output_type": "display_data"
    }
   ],
   "source": [
    "def generate_difference_mask(predicted_mask, ground_truth_mask):\n",
    "    difference_mask = np.zeros_like(predicted_mask)\n",
    "\n",
    "    for i in range(predicted_mask.shape[0]):\n",
    "        for j in range(predicted_mask.shape[1]):\n",
    "            if predicted_mask[i, j] == ground_truth_mask[i, j]:\n",
    "                difference_mask[i, j] = 0\n",
    "            elif ground_truth_mask[i, j] == 0:\n",
    "                difference_mask[i, j] = predicted_mask[i, j]\n",
    "            else:\n",
    "                difference_mask[i, j] = ground_truth_mask[i, j]\n",
    "\n",
    "    return difference_mask\n",
    "\n",
    "diff_slice = generate_difference_mask(pred_slice, gt_slice)\n",
    "\n",
    "offset = 10\n",
    "nonzero_indices = np.nonzero(diff_slice)\n",
    "y_min, y_max = np.min(nonzero_indices[0])-offset, np.max(nonzero_indices[0]+offset)\n",
    "x_min, x_max = np.min(nonzero_indices[1])-offset, np.max(nonzero_indices[1]+offset)\n",
    "\n",
    "fig, axs = plt.subplots(1, 3, figsize=(18, 6))\n",
    "\n",
    "# Plot MR image\n",
    "# Plot ground truth mask\n",
    "axs[0].imshow(np.ma.masked_where(gt_slice == 0, gt_slice), alpha=0.4, cmap='jet', vmin=1, vmax=3)\n",
    "axs[0].set_title('Ground Truth Mask')\n",
    "\n",
    "# Plot prediction mask\n",
    "axs[1].imshow(np.ma.masked_where(pred_slice == 0, pred_slice), alpha=0.4, cmap='jet', vmin=1, vmax=3)\n",
    "axs[1].set_title('Predicted Mask')\n",
    "\n",
    "# Plot difference mask\n",
    "axs[2].imshow(np.ma.masked_where(diff_slice == 0, diff_slice), alpha=0.4, cmap='jet', vmin=1, vmax=3)\n",
    "axs[2].set_title('Difference Mask')\n",
    "\n",
    "# Autozoom on the region with non-zero mask values\n",
    "for ax in axs:\n",
    "    ax.set_xlim(x_min, x_max)\n",
    "    ax.set_ylim(y_min, y_max)\n",
    "\n",
    "# Hide the axis numbers\n",
    "for ax in axs:\n",
    "    ax.set_axis_off()\n",
    "\n",
    "plt.savefig('Best_maskDifference_postprocessing.png')\n",
    "plt.show()"
   ]
  }
 ],
 "metadata": {
  "kernelspec": {
   "display_name": "Python",
   "language": "python",
   "name": "python3"
  },
  "language_info": {
   "codemirror_mode": {
    "name": "ipython",
    "version": 3
   },
   "file_extension": ".py",
   "mimetype": "text/x-python",
   "name": "python",
   "nbconvert_exporter": "python",
   "pygments_lexer": "ipython3",
   "version": "3.8.10"
  }
 },
 "nbformat": 4,
 "nbformat_minor": 5
}
