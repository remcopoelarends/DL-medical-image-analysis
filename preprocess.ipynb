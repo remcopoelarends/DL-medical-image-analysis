{
 "cells": [
  {
   "cell_type": "markdown",
   "id": "b97ad047-3996-485f-bb82-1e1ba9f9274c",
   "metadata": {},
   "source": [
    "# Package Requirements\n",
    "\n",
    "Install the required package.\n",
    "Change torch version to solve the cudnn memory problem\n",
    "Run it before running train"
   ]
  },
  {
   "cell_type": "code",
   "execution_count": null,
   "id": "d6d6048a-59b3-4744-9894-870c4332c0a0",
   "metadata": {},
   "outputs": [],
   "source": [
    "!pip install wandb\n",
    "!pip install SimpleITK\n",
    "!pip install opencv-python\n",
    "!pip install segmentation-models-pytorch\n",
    "!pip install monai\n",
    "!pip install torch==1.8.0+cu111 torchvision==0.9.0+cu111 torchaudio==0.8.0 -f https://download.pytorch.org/whl/torch_stable.html"
   ]
  },
  {
   "cell_type": "code",
   "execution_count": null,
   "id": "5281a419-fee4-427f-b90c-dc07310a0708",
   "metadata": {},
   "outputs": [],
   "source": [
    "# !gunzip -r ./Dataset/ACDC/database/training/"
   ]
  },
  {
   "cell_type": "code",
   "execution_count": null,
   "id": "5a3f73d5-85bb-422d-b91e-3f43cbcb1a8a",
   "metadata": {},
   "outputs": [],
   "source": [
    "import os\n",
    "import glob\n",
    "import numpy as np\n",
    "import SimpleITK as sitk"
   ]
  },
  {
   "cell_type": "markdown",
   "id": "daa6ddfa-da20-4953-9ea0-9ee97fab7d5d",
   "metadata": {},
   "source": [
    "# Data Preparation\n",
    "\n",
    "Convert the nii file to numpy compressed file npz. Easy to load during the creation of dataset."
   ]
  },
  {
   "cell_type": "code",
   "execution_count": null,
   "id": "5b6a57f3-a1a4-4bb6-bbdd-daac6e63b2da",
   "metadata": {},
   "outputs": [],
   "source": [
    "def convert_to_npy(source_path):\n",
    "    \"\"\"\n",
    "    Convert the nii file to npz, reduce RAM cost at the creation of dataset\n",
    "\n",
    "    Args:\n",
    "        source_path: file path to nii files\n",
    "\n",
    "    Returns:\n",
    "    \"\"\"\n",
    "    patient_directories = glob.glob(os.path.join(source_path, 'patient*'))\n",
    "    for patient_dir in patient_directories:\n",
    "        gt_image_paths = glob.glob(os.path.join(patient_dir, '*_gt.nii'))\n",
    "        for gt_image_path in gt_image_paths:\n",
    "            prefix = gt_image_path[:-7]\n",
    "            image_path = prefix + \".nii\"\n",
    "            gt_image_array = sitk.GetArrayFromImage(sitk.ReadImage(gt_image_path))\n",
    "            image_array = sitk.GetArrayFromImage(sitk.ReadImage(image_path))\n",
    "            for i, image in enumerate(image_array):\n",
    "                np.save(prefix + '_slice' + str(i) + '.npy', image)\n",
    "            for i, gt_image in enumerate(gt_image_array):\n",
    "                np.save(prefix + '_slice' + str(i) + '_gt.npy', gt_image)"
   ]
  },
  {
   "cell_type": "code",
   "execution_count": null,
   "id": "b28d9015-d92c-491e-9484-01afc2b4dd0c",
   "metadata": {},
   "outputs": [],
   "source": [
    "#convert_to_npy('./Dataset/ACDC/database/training')"
   ]
  }
 ],
 "metadata": {
  "kernelspec": {
   "display_name": "Python",
   "language": "python",
   "name": "python3"
  },
  "language_info": {
   "codemirror_mode": {
    "name": "ipython",
    "version": 3
   },
   "file_extension": ".py",
   "mimetype": "text/x-python",
   "name": "python",
   "nbconvert_exporter": "python",
   "pygments_lexer": "ipython3",
   "version": "3.8.10"
  }
 },
 "nbformat": 4,
 "nbformat_minor": 5
}
