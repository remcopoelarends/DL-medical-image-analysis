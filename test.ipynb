{
 "cells": [
  {
   "cell_type": "code",
   "execution_count": 1,
   "id": "f52272d1-e83b-44dd-a593-39d2345dccf9",
   "metadata": {},
   "outputs": [],
   "source": [
    "import io\n",
    "from PIL import Image\n",
    "import os\n",
    "import wandb\n",
    "import glob\n",
    "import torch\n",
    "import monai\n",
    "import random\n",
    "import numpy as np\n",
    "from tqdm import tqdm\n",
    "from torch.utils.data import Dataset, DataLoader\n",
    "from torchvision import transforms\n",
    "import matplotlib.pyplot as plt\n",
    "import segmentation_models_pytorch as smp\n",
    "from segmentation_models_pytorch.encoders import get_preprocessing_fn\n",
    "\n",
    "%matplotlib inline"
   ]
  },
  {
   "cell_type": "code",
   "execution_count": 2,
   "id": "80868003-0cf8-4ed4-8f7a-9369faafca87",
   "metadata": {},
   "outputs": [
    {
     "name": "stdout",
     "output_type": "stream",
     "text": [
      "Using cuda:0 device\n"
     ]
    }
   ],
   "source": [
    "torch.manual_seed(1024)\n",
    "np.random.seed(1024)\n",
    "device = torch.device(\n",
    "    \"cuda:0\"\n",
    "    if torch.cuda.is_available()\n",
    "    else\n",
    "    \"mps\"\n",
    "    if torch.backends.mps.is_available()\n",
    "    else \"cpu\"\n",
    ")\n",
    "print(f\"Using {device} device\")"
   ]
  },
  {
   "cell_type": "code",
   "execution_count": 3,
   "id": "bc6f0ba2-ca50-41bb-ae7d-13123a85f868",
   "metadata": {},
   "outputs": [],
   "source": [
    "class SegDataset(Dataset):\n",
    "    def __init__(self, data_root, transform, target_transform, train=True):\n",
    "        self.data_root = data_root\n",
    "        self.transform = transform\n",
    "        self.target_transform = target_transform\n",
    "        self.train = train\n",
    "        self.gt_files_path = []\n",
    "        # find all patient directories\n",
    "        patient_directories = glob.glob(os.path.join(self.data_root, 'patient*'))\n",
    "        # find all files with the suffix _gt.npy\n",
    "        for patient_directory in patient_directories:\n",
    "            per_patient_file_path = glob.glob(os.path.join(patient_directory, '*_gt.npy'))\n",
    "            for path in per_patient_file_path:\n",
    "                self.gt_files_path.append(path)\n",
    "        \n",
    "    def __len__(self):\n",
    "        return len(self.gt_files_path)\n",
    "    \n",
    "    def __getitem__(self, index):\n",
    "        gt_image_path = self.gt_files_path[index]\n",
    "        image_path = gt_image_path[:-7] + \".npy\"\n",
    "        image = np.load(image_path)\n",
    "        gt_image = np.load(gt_image_path)\n",
    "        image = torch.tensor(image[None,:,:]).float()\n",
    "        gt_image = torch.tensor(gt_image).long()\n",
    "            \n",
    "        # Convert the ground truth label to one-hot encoding\n",
    "        one_hot_label = torch.nn.functional.one_hot(gt_image, num_classes=4)\n",
    "\n",
    "        # Transpose the tensor to have dimensions (C, H, W)\n",
    "        one_hot_label = one_hot_label.permute(2, 0, 1)\n",
    "\n",
    "        # Remove the background channel (dimension 0)\n",
    "        one_hot_label = one_hot_label[1:, :, :]\n",
    "        \n",
    "        # Use seed to make sure image and target has same transform\n",
    "        seed = np.random.randint(2147483647)\n",
    "        random.seed(seed)\n",
    "        torch.manual_seed(seed)\n",
    "        image = self.transform(image)\n",
    "        random.seed(seed)\n",
    "        torch.manual_seed(seed)\n",
    "        target = self.target_transform(one_hot_label)\n",
    "        \n",
    "        return image, target"
   ]
  },
  {
   "cell_type": "code",
   "execution_count": 4,
   "id": "d0d20e8e-245f-439b-96d8-3c187f24ada3",
   "metadata": {},
   "outputs": [],
   "source": [
    "transform = transforms.Compose([\n",
    "    transforms.Resize([224, 224])\n",
    "])\n",
    "\n",
    "dataset = SegDataset(data_root = './database/testing', \n",
    "                     transform = transform, \n",
    "                     target_transform = transform)\n",
    "\n",
    "test_loader = DataLoader(dataset, batch_size=8, shuffle=False)\n"
   ]
  },
  {
   "cell_type": "code",
   "execution_count": 5,
   "id": "15db4f86-5d98-4661-86c9-eba520e69ec4",
   "metadata": {},
   "outputs": [
    {
     "data": {
      "text/plain": [
       "Unet(\n",
       "  (encoder): ResNetEncoder(\n",
       "    (conv1): Conv2d(1, 64, kernel_size=(7, 7), stride=(2, 2), padding=(3, 3), bias=False)\n",
       "    (bn1): BatchNorm2d(64, eps=1e-05, momentum=0.1, affine=True, track_running_stats=True)\n",
       "    (relu): ReLU(inplace=True)\n",
       "    (maxpool): MaxPool2d(kernel_size=3, stride=2, padding=1, dilation=1, ceil_mode=False)\n",
       "    (layer1): Sequential(\n",
       "      (0): Bottleneck(\n",
       "        (conv1): Conv2d(64, 64, kernel_size=(1, 1), stride=(1, 1), bias=False)\n",
       "        (bn1): BatchNorm2d(64, eps=1e-05, momentum=0.1, affine=True, track_running_stats=True)\n",
       "        (conv2): Conv2d(64, 64, kernel_size=(3, 3), stride=(1, 1), padding=(1, 1), bias=False)\n",
       "        (bn2): BatchNorm2d(64, eps=1e-05, momentum=0.1, affine=True, track_running_stats=True)\n",
       "        (conv3): Conv2d(64, 256, kernel_size=(1, 1), stride=(1, 1), bias=False)\n",
       "        (bn3): BatchNorm2d(256, eps=1e-05, momentum=0.1, affine=True, track_running_stats=True)\n",
       "        (relu): ReLU(inplace=True)\n",
       "        (downsample): Sequential(\n",
       "          (0): Conv2d(64, 256, kernel_size=(1, 1), stride=(1, 1), bias=False)\n",
       "          (1): BatchNorm2d(256, eps=1e-05, momentum=0.1, affine=True, track_running_stats=True)\n",
       "        )\n",
       "      )\n",
       "      (1): Bottleneck(\n",
       "        (conv1): Conv2d(256, 64, kernel_size=(1, 1), stride=(1, 1), bias=False)\n",
       "        (bn1): BatchNorm2d(64, eps=1e-05, momentum=0.1, affine=True, track_running_stats=True)\n",
       "        (conv2): Conv2d(64, 64, kernel_size=(3, 3), stride=(1, 1), padding=(1, 1), bias=False)\n",
       "        (bn2): BatchNorm2d(64, eps=1e-05, momentum=0.1, affine=True, track_running_stats=True)\n",
       "        (conv3): Conv2d(64, 256, kernel_size=(1, 1), stride=(1, 1), bias=False)\n",
       "        (bn3): BatchNorm2d(256, eps=1e-05, momentum=0.1, affine=True, track_running_stats=True)\n",
       "        (relu): ReLU(inplace=True)\n",
       "      )\n",
       "      (2): Bottleneck(\n",
       "        (conv1): Conv2d(256, 64, kernel_size=(1, 1), stride=(1, 1), bias=False)\n",
       "        (bn1): BatchNorm2d(64, eps=1e-05, momentum=0.1, affine=True, track_running_stats=True)\n",
       "        (conv2): Conv2d(64, 64, kernel_size=(3, 3), stride=(1, 1), padding=(1, 1), bias=False)\n",
       "        (bn2): BatchNorm2d(64, eps=1e-05, momentum=0.1, affine=True, track_running_stats=True)\n",
       "        (conv3): Conv2d(64, 256, kernel_size=(1, 1), stride=(1, 1), bias=False)\n",
       "        (bn3): BatchNorm2d(256, eps=1e-05, momentum=0.1, affine=True, track_running_stats=True)\n",
       "        (relu): ReLU(inplace=True)\n",
       "      )\n",
       "    )\n",
       "    (layer2): Sequential(\n",
       "      (0): Bottleneck(\n",
       "        (conv1): Conv2d(256, 128, kernel_size=(1, 1), stride=(1, 1), bias=False)\n",
       "        (bn1): BatchNorm2d(128, eps=1e-05, momentum=0.1, affine=True, track_running_stats=True)\n",
       "        (conv2): Conv2d(128, 128, kernel_size=(3, 3), stride=(2, 2), padding=(1, 1), bias=False)\n",
       "        (bn2): BatchNorm2d(128, eps=1e-05, momentum=0.1, affine=True, track_running_stats=True)\n",
       "        (conv3): Conv2d(128, 512, kernel_size=(1, 1), stride=(1, 1), bias=False)\n",
       "        (bn3): BatchNorm2d(512, eps=1e-05, momentum=0.1, affine=True, track_running_stats=True)\n",
       "        (relu): ReLU(inplace=True)\n",
       "        (downsample): Sequential(\n",
       "          (0): Conv2d(256, 512, kernel_size=(1, 1), stride=(2, 2), bias=False)\n",
       "          (1): BatchNorm2d(512, eps=1e-05, momentum=0.1, affine=True, track_running_stats=True)\n",
       "        )\n",
       "      )\n",
       "      (1): Bottleneck(\n",
       "        (conv1): Conv2d(512, 128, kernel_size=(1, 1), stride=(1, 1), bias=False)\n",
       "        (bn1): BatchNorm2d(128, eps=1e-05, momentum=0.1, affine=True, track_running_stats=True)\n",
       "        (conv2): Conv2d(128, 128, kernel_size=(3, 3), stride=(1, 1), padding=(1, 1), bias=False)\n",
       "        (bn2): BatchNorm2d(128, eps=1e-05, momentum=0.1, affine=True, track_running_stats=True)\n",
       "        (conv3): Conv2d(128, 512, kernel_size=(1, 1), stride=(1, 1), bias=False)\n",
       "        (bn3): BatchNorm2d(512, eps=1e-05, momentum=0.1, affine=True, track_running_stats=True)\n",
       "        (relu): ReLU(inplace=True)\n",
       "      )\n",
       "      (2): Bottleneck(\n",
       "        (conv1): Conv2d(512, 128, kernel_size=(1, 1), stride=(1, 1), bias=False)\n",
       "        (bn1): BatchNorm2d(128, eps=1e-05, momentum=0.1, affine=True, track_running_stats=True)\n",
       "        (conv2): Conv2d(128, 128, kernel_size=(3, 3), stride=(1, 1), padding=(1, 1), bias=False)\n",
       "        (bn2): BatchNorm2d(128, eps=1e-05, momentum=0.1, affine=True, track_running_stats=True)\n",
       "        (conv3): Conv2d(128, 512, kernel_size=(1, 1), stride=(1, 1), bias=False)\n",
       "        (bn3): BatchNorm2d(512, eps=1e-05, momentum=0.1, affine=True, track_running_stats=True)\n",
       "        (relu): ReLU(inplace=True)\n",
       "      )\n",
       "      (3): Bottleneck(\n",
       "        (conv1): Conv2d(512, 128, kernel_size=(1, 1), stride=(1, 1), bias=False)\n",
       "        (bn1): BatchNorm2d(128, eps=1e-05, momentum=0.1, affine=True, track_running_stats=True)\n",
       "        (conv2): Conv2d(128, 128, kernel_size=(3, 3), stride=(1, 1), padding=(1, 1), bias=False)\n",
       "        (bn2): BatchNorm2d(128, eps=1e-05, momentum=0.1, affine=True, track_running_stats=True)\n",
       "        (conv3): Conv2d(128, 512, kernel_size=(1, 1), stride=(1, 1), bias=False)\n",
       "        (bn3): BatchNorm2d(512, eps=1e-05, momentum=0.1, affine=True, track_running_stats=True)\n",
       "        (relu): ReLU(inplace=True)\n",
       "      )\n",
       "    )\n",
       "    (layer3): Sequential(\n",
       "      (0): Bottleneck(\n",
       "        (conv1): Conv2d(512, 256, kernel_size=(1, 1), stride=(1, 1), bias=False)\n",
       "        (bn1): BatchNorm2d(256, eps=1e-05, momentum=0.1, affine=True, track_running_stats=True)\n",
       "        (conv2): Conv2d(256, 256, kernel_size=(3, 3), stride=(2, 2), padding=(1, 1), bias=False)\n",
       "        (bn2): BatchNorm2d(256, eps=1e-05, momentum=0.1, affine=True, track_running_stats=True)\n",
       "        (conv3): Conv2d(256, 1024, kernel_size=(1, 1), stride=(1, 1), bias=False)\n",
       "        (bn3): BatchNorm2d(1024, eps=1e-05, momentum=0.1, affine=True, track_running_stats=True)\n",
       "        (relu): ReLU(inplace=True)\n",
       "        (downsample): Sequential(\n",
       "          (0): Conv2d(512, 1024, kernel_size=(1, 1), stride=(2, 2), bias=False)\n",
       "          (1): BatchNorm2d(1024, eps=1e-05, momentum=0.1, affine=True, track_running_stats=True)\n",
       "        )\n",
       "      )\n",
       "      (1): Bottleneck(\n",
       "        (conv1): Conv2d(1024, 256, kernel_size=(1, 1), stride=(1, 1), bias=False)\n",
       "        (bn1): BatchNorm2d(256, eps=1e-05, momentum=0.1, affine=True, track_running_stats=True)\n",
       "        (conv2): Conv2d(256, 256, kernel_size=(3, 3), stride=(1, 1), padding=(1, 1), bias=False)\n",
       "        (bn2): BatchNorm2d(256, eps=1e-05, momentum=0.1, affine=True, track_running_stats=True)\n",
       "        (conv3): Conv2d(256, 1024, kernel_size=(1, 1), stride=(1, 1), bias=False)\n",
       "        (bn3): BatchNorm2d(1024, eps=1e-05, momentum=0.1, affine=True, track_running_stats=True)\n",
       "        (relu): ReLU(inplace=True)\n",
       "      )\n",
       "      (2): Bottleneck(\n",
       "        (conv1): Conv2d(1024, 256, kernel_size=(1, 1), stride=(1, 1), bias=False)\n",
       "        (bn1): BatchNorm2d(256, eps=1e-05, momentum=0.1, affine=True, track_running_stats=True)\n",
       "        (conv2): Conv2d(256, 256, kernel_size=(3, 3), stride=(1, 1), padding=(1, 1), bias=False)\n",
       "        (bn2): BatchNorm2d(256, eps=1e-05, momentum=0.1, affine=True, track_running_stats=True)\n",
       "        (conv3): Conv2d(256, 1024, kernel_size=(1, 1), stride=(1, 1), bias=False)\n",
       "        (bn3): BatchNorm2d(1024, eps=1e-05, momentum=0.1, affine=True, track_running_stats=True)\n",
       "        (relu): ReLU(inplace=True)\n",
       "      )\n",
       "      (3): Bottleneck(\n",
       "        (conv1): Conv2d(1024, 256, kernel_size=(1, 1), stride=(1, 1), bias=False)\n",
       "        (bn1): BatchNorm2d(256, eps=1e-05, momentum=0.1, affine=True, track_running_stats=True)\n",
       "        (conv2): Conv2d(256, 256, kernel_size=(3, 3), stride=(1, 1), padding=(1, 1), bias=False)\n",
       "        (bn2): BatchNorm2d(256, eps=1e-05, momentum=0.1, affine=True, track_running_stats=True)\n",
       "        (conv3): Conv2d(256, 1024, kernel_size=(1, 1), stride=(1, 1), bias=False)\n",
       "        (bn3): BatchNorm2d(1024, eps=1e-05, momentum=0.1, affine=True, track_running_stats=True)\n",
       "        (relu): ReLU(inplace=True)\n",
       "      )\n",
       "      (4): Bottleneck(\n",
       "        (conv1): Conv2d(1024, 256, kernel_size=(1, 1), stride=(1, 1), bias=False)\n",
       "        (bn1): BatchNorm2d(256, eps=1e-05, momentum=0.1, affine=True, track_running_stats=True)\n",
       "        (conv2): Conv2d(256, 256, kernel_size=(3, 3), stride=(1, 1), padding=(1, 1), bias=False)\n",
       "        (bn2): BatchNorm2d(256, eps=1e-05, momentum=0.1, affine=True, track_running_stats=True)\n",
       "        (conv3): Conv2d(256, 1024, kernel_size=(1, 1), stride=(1, 1), bias=False)\n",
       "        (bn3): BatchNorm2d(1024, eps=1e-05, momentum=0.1, affine=True, track_running_stats=True)\n",
       "        (relu): ReLU(inplace=True)\n",
       "      )\n",
       "      (5): Bottleneck(\n",
       "        (conv1): Conv2d(1024, 256, kernel_size=(1, 1), stride=(1, 1), bias=False)\n",
       "        (bn1): BatchNorm2d(256, eps=1e-05, momentum=0.1, affine=True, track_running_stats=True)\n",
       "        (conv2): Conv2d(256, 256, kernel_size=(3, 3), stride=(1, 1), padding=(1, 1), bias=False)\n",
       "        (bn2): BatchNorm2d(256, eps=1e-05, momentum=0.1, affine=True, track_running_stats=True)\n",
       "        (conv3): Conv2d(256, 1024, kernel_size=(1, 1), stride=(1, 1), bias=False)\n",
       "        (bn3): BatchNorm2d(1024, eps=1e-05, momentum=0.1, affine=True, track_running_stats=True)\n",
       "        (relu): ReLU(inplace=True)\n",
       "      )\n",
       "    )\n",
       "    (layer4): Sequential(\n",
       "      (0): Bottleneck(\n",
       "        (conv1): Conv2d(1024, 512, kernel_size=(1, 1), stride=(1, 1), bias=False)\n",
       "        (bn1): BatchNorm2d(512, eps=1e-05, momentum=0.1, affine=True, track_running_stats=True)\n",
       "        (conv2): Conv2d(512, 512, kernel_size=(3, 3), stride=(2, 2), padding=(1, 1), bias=False)\n",
       "        (bn2): BatchNorm2d(512, eps=1e-05, momentum=0.1, affine=True, track_running_stats=True)\n",
       "        (conv3): Conv2d(512, 2048, kernel_size=(1, 1), stride=(1, 1), bias=False)\n",
       "        (bn3): BatchNorm2d(2048, eps=1e-05, momentum=0.1, affine=True, track_running_stats=True)\n",
       "        (relu): ReLU(inplace=True)\n",
       "        (downsample): Sequential(\n",
       "          (0): Conv2d(1024, 2048, kernel_size=(1, 1), stride=(2, 2), bias=False)\n",
       "          (1): BatchNorm2d(2048, eps=1e-05, momentum=0.1, affine=True, track_running_stats=True)\n",
       "        )\n",
       "      )\n",
       "      (1): Bottleneck(\n",
       "        (conv1): Conv2d(2048, 512, kernel_size=(1, 1), stride=(1, 1), bias=False)\n",
       "        (bn1): BatchNorm2d(512, eps=1e-05, momentum=0.1, affine=True, track_running_stats=True)\n",
       "        (conv2): Conv2d(512, 512, kernel_size=(3, 3), stride=(1, 1), padding=(1, 1), bias=False)\n",
       "        (bn2): BatchNorm2d(512, eps=1e-05, momentum=0.1, affine=True, track_running_stats=True)\n",
       "        (conv3): Conv2d(512, 2048, kernel_size=(1, 1), stride=(1, 1), bias=False)\n",
       "        (bn3): BatchNorm2d(2048, eps=1e-05, momentum=0.1, affine=True, track_running_stats=True)\n",
       "        (relu): ReLU(inplace=True)\n",
       "      )\n",
       "      (2): Bottleneck(\n",
       "        (conv1): Conv2d(2048, 512, kernel_size=(1, 1), stride=(1, 1), bias=False)\n",
       "        (bn1): BatchNorm2d(512, eps=1e-05, momentum=0.1, affine=True, track_running_stats=True)\n",
       "        (conv2): Conv2d(512, 512, kernel_size=(3, 3), stride=(1, 1), padding=(1, 1), bias=False)\n",
       "        (bn2): BatchNorm2d(512, eps=1e-05, momentum=0.1, affine=True, track_running_stats=True)\n",
       "        (conv3): Conv2d(512, 2048, kernel_size=(1, 1), stride=(1, 1), bias=False)\n",
       "        (bn3): BatchNorm2d(2048, eps=1e-05, momentum=0.1, affine=True, track_running_stats=True)\n",
       "        (relu): ReLU(inplace=True)\n",
       "      )\n",
       "    )\n",
       "  )\n",
       "  (decoder): UnetDecoder(\n",
       "    (center): Identity()\n",
       "    (blocks): ModuleList(\n",
       "      (0): DecoderBlock(\n",
       "        (conv1): Conv2dReLU(\n",
       "          (0): Conv2d(3072, 256, kernel_size=(3, 3), stride=(1, 1), padding=(1, 1), bias=False)\n",
       "          (1): BatchNorm2d(256, eps=1e-05, momentum=0.1, affine=True, track_running_stats=True)\n",
       "          (2): ReLU(inplace=True)\n",
       "        )\n",
       "        (attention1): Attention(\n",
       "          (attention): Identity()\n",
       "        )\n",
       "        (conv2): Conv2dReLU(\n",
       "          (0): Conv2d(256, 256, kernel_size=(3, 3), stride=(1, 1), padding=(1, 1), bias=False)\n",
       "          (1): BatchNorm2d(256, eps=1e-05, momentum=0.1, affine=True, track_running_stats=True)\n",
       "          (2): ReLU(inplace=True)\n",
       "        )\n",
       "        (attention2): Attention(\n",
       "          (attention): Identity()\n",
       "        )\n",
       "      )\n",
       "      (1): DecoderBlock(\n",
       "        (conv1): Conv2dReLU(\n",
       "          (0): Conv2d(768, 128, kernel_size=(3, 3), stride=(1, 1), padding=(1, 1), bias=False)\n",
       "          (1): BatchNorm2d(128, eps=1e-05, momentum=0.1, affine=True, track_running_stats=True)\n",
       "          (2): ReLU(inplace=True)\n",
       "        )\n",
       "        (attention1): Attention(\n",
       "          (attention): Identity()\n",
       "        )\n",
       "        (conv2): Conv2dReLU(\n",
       "          (0): Conv2d(128, 128, kernel_size=(3, 3), stride=(1, 1), padding=(1, 1), bias=False)\n",
       "          (1): BatchNorm2d(128, eps=1e-05, momentum=0.1, affine=True, track_running_stats=True)\n",
       "          (2): ReLU(inplace=True)\n",
       "        )\n",
       "        (attention2): Attention(\n",
       "          (attention): Identity()\n",
       "        )\n",
       "      )\n",
       "      (2): DecoderBlock(\n",
       "        (conv1): Conv2dReLU(\n",
       "          (0): Conv2d(384, 64, kernel_size=(3, 3), stride=(1, 1), padding=(1, 1), bias=False)\n",
       "          (1): BatchNorm2d(64, eps=1e-05, momentum=0.1, affine=True, track_running_stats=True)\n",
       "          (2): ReLU(inplace=True)\n",
       "        )\n",
       "        (attention1): Attention(\n",
       "          (attention): Identity()\n",
       "        )\n",
       "        (conv2): Conv2dReLU(\n",
       "          (0): Conv2d(64, 64, kernel_size=(3, 3), stride=(1, 1), padding=(1, 1), bias=False)\n",
       "          (1): BatchNorm2d(64, eps=1e-05, momentum=0.1, affine=True, track_running_stats=True)\n",
       "          (2): ReLU(inplace=True)\n",
       "        )\n",
       "        (attention2): Attention(\n",
       "          (attention): Identity()\n",
       "        )\n",
       "      )\n",
       "      (3): DecoderBlock(\n",
       "        (conv1): Conv2dReLU(\n",
       "          (0): Conv2d(128, 32, kernel_size=(3, 3), stride=(1, 1), padding=(1, 1), bias=False)\n",
       "          (1): BatchNorm2d(32, eps=1e-05, momentum=0.1, affine=True, track_running_stats=True)\n",
       "          (2): ReLU(inplace=True)\n",
       "        )\n",
       "        (attention1): Attention(\n",
       "          (attention): Identity()\n",
       "        )\n",
       "        (conv2): Conv2dReLU(\n",
       "          (0): Conv2d(32, 32, kernel_size=(3, 3), stride=(1, 1), padding=(1, 1), bias=False)\n",
       "          (1): BatchNorm2d(32, eps=1e-05, momentum=0.1, affine=True, track_running_stats=True)\n",
       "          (2): ReLU(inplace=True)\n",
       "        )\n",
       "        (attention2): Attention(\n",
       "          (attention): Identity()\n",
       "        )\n",
       "      )\n",
       "      (4): DecoderBlock(\n",
       "        (conv1): Conv2dReLU(\n",
       "          (0): Conv2d(32, 16, kernel_size=(3, 3), stride=(1, 1), padding=(1, 1), bias=False)\n",
       "          (1): BatchNorm2d(16, eps=1e-05, momentum=0.1, affine=True, track_running_stats=True)\n",
       "          (2): ReLU(inplace=True)\n",
       "        )\n",
       "        (attention1): Attention(\n",
       "          (attention): Identity()\n",
       "        )\n",
       "        (conv2): Conv2dReLU(\n",
       "          (0): Conv2d(16, 16, kernel_size=(3, 3), stride=(1, 1), padding=(1, 1), bias=False)\n",
       "          (1): BatchNorm2d(16, eps=1e-05, momentum=0.1, affine=True, track_running_stats=True)\n",
       "          (2): ReLU(inplace=True)\n",
       "        )\n",
       "        (attention2): Attention(\n",
       "          (attention): Identity()\n",
       "        )\n",
       "      )\n",
       "    )\n",
       "  )\n",
       "  (segmentation_head): SegmentationHead(\n",
       "    (0): Conv2d(16, 3, kernel_size=(3, 3), stride=(1, 1), padding=(1, 1))\n",
       "    (1): Identity()\n",
       "    (2): Activation(\n",
       "      (activation): Identity()\n",
       "    )\n",
       "  )\n",
       ")"
      ]
     },
     "execution_count": 5,
     "metadata": {},
     "output_type": "execute_result"
    }
   ],
   "source": [
    "model = smp.Unet(\n",
    "    encoder_name=\"resnet50\",        # choose encoder, e.g. mobilenet_v2 or efficientnet-b7\n",
    "    encoder_weights=\"imagenet\",     # use `imagenet` pre-trained weights for encoder initialization\n",
    "    in_channels=1,                  # model input channels\n",
    "    classes=3,                      # model output channels (number of classes)\n",
    ")\n",
    "\n",
    "model.load_state_dict(torch.load('./model/unet-test/model_best.pth'))\n",
    "model.to(device)\n",
    "model.eval()"
   ]
  },
  {
   "cell_type": "code",
   "execution_count": 6,
   "id": "5bc8ba63-292d-46b0-9303-a67ff4e11bfa",
   "metadata": {},
   "outputs": [
    {
     "name": "stdout",
     "output_type": "stream",
     "text": [
      "2023-05-30 11:26:05,145 - Failed to detect the name of this notebook, you can set it manually with the WANDB_NOTEBOOK_NAME environment variable to enable code saving.\n"
     ]
    },
    {
     "name": "stderr",
     "output_type": "stream",
     "text": [
      "\u001b[34m\u001b[1mwandb\u001b[0m: Currently logged in as: \u001b[33mming686\u001b[0m (\u001b[33mdeeplearning-med\u001b[0m). Use \u001b[1m`wandb login --relogin`\u001b[0m to force relogin\n"
     ]
    },
    {
     "data": {
      "text/html": [
       "Tracking run with wandb version 0.15.3"
      ],
      "text/plain": [
       "<IPython.core.display.HTML object>"
      ]
     },
     "metadata": {},
     "output_type": "display_data"
    },
    {
     "data": {
      "text/html": [
       "Run data is saved locally in <code>/home/jovyan/DL_MED/Project/wandb/run-20230530_112607-isct4un6</code>"
      ],
      "text/plain": [
       "<IPython.core.display.HTML object>"
      ]
     },
     "metadata": {},
     "output_type": "display_data"
    },
    {
     "data": {
      "text/html": [
       "Syncing run <strong><a href='https://wandb.ai/deeplearning-med/Unet-Test/runs/isct4un6' target=\"_blank\">gentle-feather-4</a></strong> to <a href='https://wandb.ai/deeplearning-med/Unet-Test' target=\"_blank\">Weights & Biases</a> (<a href='https://wandb.me/run' target=\"_blank\">docs</a>)<br/>"
      ],
      "text/plain": [
       "<IPython.core.display.HTML object>"
      ]
     },
     "metadata": {},
     "output_type": "display_data"
    },
    {
     "data": {
      "text/html": [
       " View project at <a href='https://wandb.ai/deeplearning-med/Unet-Test' target=\"_blank\">https://wandb.ai/deeplearning-med/Unet-Test</a>"
      ],
      "text/plain": [
       "<IPython.core.display.HTML object>"
      ]
     },
     "metadata": {},
     "output_type": "display_data"
    },
    {
     "data": {
      "text/html": [
       " View run at <a href='https://wandb.ai/deeplearning-med/Unet-Test/runs/isct4un6' target=\"_blank\">https://wandb.ai/deeplearning-med/Unet-Test/runs/isct4un6</a>"
      ],
      "text/plain": [
       "<IPython.core.display.HTML object>"
      ]
     },
     "metadata": {},
     "output_type": "display_data"
    }
   ],
   "source": [
    "run = wandb.init(\n",
    "    project=\"Unet-Test\",\n",
    "    # Track hyperparameters and run metadata\n",
    "    config={})"
   ]
  },
  {
   "cell_type": "code",
   "execution_count": 7,
   "id": "227b3642-1641-4f65-84fd-51826ea8c865",
   "metadata": {},
   "outputs": [],
   "source": [
    "def vis_img(img, mask):\n",
    "    # img: (B, 256, 64, 64), {: (B, 1, 256, 256)\n",
    "    print(f\"{img.shape=}, {mask.shape=}\")\n",
    "    img = np.squeeze(img)\n",
    "    mask = np.squeeze(mask)\n",
    "    plt.figure()\n",
    "    plt.imshow(img, 'gray')\n",
    "    overlay_mask_0 = np.ma.masked_where(mask[0] == 0, img)\n",
    "    overlay_mask_1 = np.ma.masked_where(mask[1] == 0, img)\n",
    "    overlay_mask_2 = np.ma.masked_where(mask[2] == 0, img)\n",
    "    plt.imshow(overlay_mask_0, 'Greens', alpha = 0.7, clim=[0,1], interpolation='nearest')\n",
    "    plt.imshow(overlay_mask_1, 'Reds', alpha = 0.7, clim=[0,1], interpolation='nearest')\n",
    "    plt.imshow(overlay_mask_2, 'Purples', alpha = 0.7, clim=[0,1], interpolation='nearest')\n",
    "    buffer = io.BytesIO()\n",
    "    plt.savefig(buffer, format='jpeg')\n",
    "    buffer.seek(0)\n",
    "\n",
    "    # Convert the in-memory buffer to a NumPy array\n",
    "    image_array = np.array(Image.open(buffer))\n",
    "    return image_array"
   ]
  },
  {
   "cell_type": "code",
   "execution_count": 37,
   "id": "833e392f-0177-467b-99ce-eb39c5eea7d2",
   "metadata": {},
   "outputs": [
    {
     "name": "stderr",
     "output_type": "stream",
     "text": [
      "  1%|▏         | 2/135 [00:00<00:16,  8.22it/s]"
     ]
    },
    {
     "name": "stdout",
     "output_type": "stream",
     "text": [
      "tensor([[0.8886, 0.7192, 1.0000, 0.9284, 1.0000, 0.8772, 0.8967, 0.9012]],\n",
      "       device='cuda:0')\n",
      "tensor([[0.7995, 0.5615, 1.0000, 0.8663, 1.0000, 0.7812, 0.8128, 0.8202]],\n",
      "       device='cuda:0')\n",
      "tensor([[0.9263, 0.8695, 0.9380, 0.9413, 0.0000, 0.8700, 0.0000, 0.8923]],\n",
      "       device='cuda:0')\n",
      "tensor([[0.8627, 0.7691, 0.8832, 0.8892, 0.0000, 0.7699, 0.0000, 0.8056]],\n",
      "       device='cuda:0')\n"
     ]
    },
    {
     "name": "stderr",
     "output_type": "stream",
     "text": [
      "  3%|▎         | 4/135 [00:00<00:13,  9.61it/s]"
     ]
    },
    {
     "name": "stdout",
     "output_type": "stream",
     "text": [
      "tensor([[0.8672, 0.8845, 0.8771, 0.9270, 0.8914, 0.8222, 0.9372, 0.9017]],\n",
      "       device='cuda:0')\n",
      "tensor([[0.7656, 0.7928, 0.7811, 0.8639, 0.8041, 0.6981, 0.8818, 0.8210]],\n",
      "       device='cuda:0')\n",
      "tensor([[0.8066, 0.8666, 0.9179, 0.9133, 0.9154, 0.0000, 0.8796, 0.0000]],\n",
      "       device='cuda:0')\n",
      "tensor([[0.6759, 0.7646, 0.8483, 0.8404, 0.8440, 0.0000, 0.7851, 0.0000]],\n",
      "       device='cuda:0')\n",
      "tensor([[0.9362, 0.9448, 0.9163, 0.9365, 0.8741, 0.8918, 0.9491, 0.9120]],\n",
      "       device='cuda:0')\n",
      "tensor([[0.8800, 0.8954, 0.8456, 0.8805, 0.7764, 0.8047, 0.9031, 0.8383]],\n",
      "       device='cuda:0')\n"
     ]
    },
    {
     "name": "stderr",
     "output_type": "stream",
     "text": [
      "  6%|▌         | 8/135 [00:00<00:11, 10.73it/s]"
     ]
    },
    {
     "name": "stdout",
     "output_type": "stream",
     "text": [
      "tensor([[0.9186, 0.9400, 0.9408, 0.9364, 0.8655, 0.9269, 0.8980, 0.0000]],\n",
      "       device='cuda:0')\n",
      "tensor([[0.8495, 0.8868, 0.8882, 0.8804, 0.7630, 0.8638, 0.8149, 0.0000]],\n",
      "       device='cuda:0')\n",
      "tensor([[0.8170, 0.8554, 0.6921, 0.8501, 1.0000, 0.0000, 0.9153, 1.0000]],\n",
      "       device='cuda:0')\n",
      "tensor([[0.6906, 0.7473, 0.5292, 0.7392, 1.0000, 0.0000, 0.8439, 1.0000]],\n",
      "       device='cuda:0')\n",
      "tensor([[0.8530, 0.8073, 0.6071, 0.9214, 0.9225, 0.5105, 0.8905, 0.9386]],\n",
      "       device='cuda:0')\n",
      "tensor([[0.7437, 0.6769, 0.4358, 0.8542, 0.8562, 0.3428, 0.8027, 0.8844]],\n",
      "       device='cuda:0')\n"
     ]
    },
    {
     "name": "stderr",
     "output_type": "stream",
     "text": [
      "  7%|▋         | 10/135 [00:00<00:11, 11.05it/s]"
     ]
    },
    {
     "name": "stdout",
     "output_type": "stream",
     "text": [
      "tensor([[0.5291, 0.8531, 0.9162, 0.8991, 0.8949, 0.8899, 0.8871, 0.8735]],\n",
      "       device='cuda:0')\n",
      "tensor([[0.3597, 0.7438, 0.8453, 0.8166, 0.8097, 0.8016, 0.7971, 0.7753]],\n",
      "       device='cuda:0')\n",
      "tensor([[0.9101, 0.0000, 0.6507, 0.8968, 0.8800, 0.8521, 0.8725, 0.8659]],\n",
      "       device='cuda:0')\n",
      "tensor([[0.8351, 0.0000, 0.4822, 0.8129, 0.7856, 0.7423, 0.7738, 0.7635]],\n",
      "       device='cuda:0')\n",
      "tensor([[0.0000, 0.6310, 0.8993, 0.9047, 0.7855, 0.8754, 0.8840, 0.8737]],\n",
      "       device='cuda:0')\n",
      "tensor([[0.0000, 0.4609, 0.8171, 0.8260, 0.6468, 0.7784, 0.7921, 0.7757]],\n",
      "       device='cuda:0')\n"
     ]
    },
    {
     "name": "stderr",
     "output_type": "stream",
     "text": [
      " 10%|█         | 14/135 [00:01<00:10, 11.41it/s]"
     ]
    },
    {
     "name": "stdout",
     "output_type": "stream",
     "text": [
      "tensor([[0.9071, 0.8335, 0.9080, 0.8859, 0.6500, 0.9057, 1.0000, 0.9230]],\n",
      "       device='cuda:0')\n",
      "tensor([[0.8301, 0.7146, 0.8316, 0.7952, 0.4815, 0.8276, 1.0000, 0.8570]],\n",
      "       device='cuda:0')\n",
      "tensor([[0.8238, 0.7413, 0.8023, 0.8700, 0.8767, 0.8806, 0.8540, 1.0000]],\n",
      "       device='cuda:0')\n",
      "tensor([[0.7004, 0.5890, 0.6699, 0.7699, 0.7805, 0.7867, 0.7453, 1.0000]],\n",
      "       device='cuda:0')\n",
      "tensor([[0.7813, 0.7022, 0.8360, 0.6891, 0.7153, 0.8946, 0.8958, 0.8719]],\n",
      "       device='cuda:0')\n",
      "tensor([[0.6411, 0.5411, 0.7181, 0.5257, 0.5568, 0.8093, 0.8113, 0.7730]],\n",
      "       device='cuda:0')\n"
     ]
    },
    {
     "name": "stderr",
     "output_type": "stream",
     "text": [
      " 12%|█▏        | 16/135 [00:01<00:10, 11.52it/s]"
     ]
    },
    {
     "name": "stdout",
     "output_type": "stream",
     "text": [
      "tensor([[0.9065, 0.9258, 0.8051, 0.7601, 0.9006, 0.9396, 0.9023, 0.9217]],\n",
      "       device='cuda:0')\n",
      "tensor([[0.8289, 0.8618, 0.6738, 0.6130, 0.8192, 0.8860, 0.8220, 0.8548]],\n",
      "       device='cuda:0')\n",
      "tensor([[0.9010, 0.8862, 0.8565, 0.9359, 0.7886, 0.8370, 0.8952, 0.9135]],\n",
      "       device='cuda:0')\n",
      "tensor([[0.8198, 0.7956, 0.7490, 0.8795, 0.6510, 0.7197, 0.8103, 0.8408]],\n",
      "       device='cuda:0')\n",
      "tensor([[0.8662, 0.8555, 0.2704, 0.8465, 0.0000, 0.8586, 0.0000, 0.8679]],\n",
      "       device='cuda:0')\n",
      "tensor([[0.7640, 0.7475, 0.1564, 0.7339, 0.0000, 0.7522, 0.0000, 0.7666]],\n",
      "       device='cuda:0')\n"
     ]
    },
    {
     "name": "stderr",
     "output_type": "stream",
     "text": [
      " 15%|█▍        | 20/135 [00:01<00:09, 11.72it/s]"
     ]
    },
    {
     "name": "stdout",
     "output_type": "stream",
     "text": [
      "tensor([[0.0000, 0.8754, 0.9192, 0.9080, 0.6072, 0.9021, 0.8751, 0.7474]],\n",
      "       device='cuda:0')\n",
      "tensor([[0.0000, 0.7784, 0.8504, 0.8315, 0.4360, 0.8217, 0.7779, 0.5967]],\n",
      "       device='cuda:0')\n",
      "tensor([[0.0000, 0.9054, 0.9490, 0.9153, 0.8880, 0.9391, 0.9014, 0.9586]],\n",
      "       device='cuda:0')\n",
      "tensor([[0.0000, 0.8271, 0.9029, 0.8439, 0.7985, 0.8852, 0.8206, 0.9205]],\n",
      "       device='cuda:0')\n",
      "tensor([[0.9275, 0.9508, 0.9209, 0.9192, 0.9438, 0.8967, 0.8834, 0.9198]],\n",
      "       device='cuda:0')\n",
      "tensor([[0.8648, 0.9062, 0.8534, 0.8505, 0.8935, 0.8128, 0.7912, 0.8515]],\n",
      "       device='cuda:0')\n"
     ]
    },
    {
     "name": "stderr",
     "output_type": "stream",
     "text": [
      " 16%|█▋        | 22/135 [00:01<00:09, 11.69it/s]"
     ]
    },
    {
     "name": "stdout",
     "output_type": "stream",
     "text": [
      "tensor([[0.6601, 0.9124, 0.9286, 0.9165, 0.7273, 0.9407, 0.7704, 0.9425]],\n",
      "       device='cuda:0')\n",
      "tensor([[0.4927, 0.8389, 0.8666, 0.8458, 0.5715, 0.8880, 0.6266, 0.8912]],\n",
      "       device='cuda:0')\n",
      "tensor([[0.9413, 0.9464, 0.9212, 0.9345, 0.9158, 0.7548, 0.0000, 0.8908]],\n",
      "       device='cuda:0')\n",
      "tensor([[0.8891, 0.8982, 0.8539, 0.8771, 0.8446, 0.6062, 0.0000, 0.8031]],\n",
      "       device='cuda:0')\n",
      "tensor([[0.9425, 0.6991, 0.9101, 0.9323, 0.9005, 0.8923, 0.9308, 0.9408]],\n",
      "       device='cuda:0')\n",
      "tensor([[0.8913, 0.5374, 0.8351, 0.8732, 0.8191, 0.8056, 0.8705, 0.8882]],\n",
      "       device='cuda:0')\n"
     ]
    },
    {
     "name": "stderr",
     "output_type": "stream",
     "text": [
      " 19%|█▉        | 26/135 [00:02<00:09, 11.86it/s]"
     ]
    },
    {
     "name": "stdout",
     "output_type": "stream",
     "text": [
      "tensor([[0.9128, 0.9032, 0.9351, 0.9352, 0.9213, 0.9302, 0.8202, 0.0000]],\n",
      "       device='cuda:0')\n",
      "tensor([[0.8395, 0.8234, 0.8781, 0.8783, 0.8541, 0.8696, 0.6952, 0.0000]],\n",
      "       device='cuda:0')\n",
      "tensor([[0.8855, 0.9228, 0.8601, 0.9223, 0.9150, 0.9134, 0.9115, 0.9287]],\n",
      "       device='cuda:0')\n",
      "tensor([[0.7946, 0.8567, 0.7545, 0.8558, 0.8433, 0.8406, 0.8373, 0.8670]],\n",
      "       device='cuda:0')\n",
      "tensor([[0.9116, 0.9421, 0.8370, 0.0000, 0.9140, 0.9436, 0.8858, 0.8127]],\n",
      "       device='cuda:0')\n",
      "tensor([[0.8375, 0.8905, 0.7198, 0.0000, 0.8416, 0.8931, 0.7950, 0.6845]],\n",
      "       device='cuda:0')\n"
     ]
    },
    {
     "name": "stderr",
     "output_type": "stream",
     "text": [
      " 21%|██        | 28/135 [00:02<00:09, 11.81it/s]"
     ]
    },
    {
     "name": "stdout",
     "output_type": "stream",
     "text": [
      "tensor([[0.9036, 0.9160, 0.9082, 0.8750, 0.9110, 0.7198, 0.9017, 0.9313]],\n",
      "       device='cuda:0')\n",
      "tensor([[0.8241, 0.8451, 0.8318, 0.7778, 0.8366, 0.5623, 0.8209, 0.8715]],\n",
      "       device='cuda:0')\n",
      "tensor([[0.8352, 0.9099, 0.8513, 0.9260, 0.8520, 0.9118, 0.8683, 0.9164]],\n",
      "       device='cuda:0')\n",
      "tensor([[0.7171, 0.8348, 0.7412, 0.8621, 0.7422, 0.8379, 0.7672, 0.8457]],\n",
      "       device='cuda:0')\n",
      "tensor([[0.9043, 0.9140, 0.9032, 0.9049, 0.0000, 0.9112, 0.7262, 0.9100]],\n",
      "       device='cuda:0')\n",
      "tensor([[0.8252, 0.8417, 0.8235, 0.8264, 0.0000, 0.8369, 0.5701, 0.8348]],\n",
      "       device='cuda:0')\n"
     ]
    },
    {
     "name": "stderr",
     "output_type": "stream",
     "text": [
      " 24%|██▎       | 32/135 [00:02<00:08, 11.84it/s]"
     ]
    },
    {
     "name": "stdout",
     "output_type": "stream",
     "text": [
      "tensor([[0.0000, 0.8763, 0.9060, 0.8055, 0.8866, 0.8924, 0.8739, 0.9059]],\n",
      "       device='cuda:0')\n",
      "tensor([[0.0000, 0.7799, 0.8281, 0.6744, 0.7963, 0.8058, 0.7760, 0.8281]],\n",
      "       device='cuda:0')\n",
      "tensor([[0.8922, 0.9201, 0.9034, 0.8465, 0.8568, 0.9202, 0.6969, 0.9252]],\n",
      "       device='cuda:0')\n",
      "tensor([[0.8054, 0.8520, 0.8238, 0.7339, 0.7494, 0.8522, 0.5347, 0.8609]],\n",
      "       device='cuda:0')\n",
      "tensor([[0.9095, 0.9204, 0.8244, 0.0000, 0.8470, 0.9078, 0.8556, 0.8740]],\n",
      "       device='cuda:0')\n",
      "tensor([[0.8340, 0.8525, 0.7012, 0.0000, 0.7346, 0.8313, 0.7476, 0.7762]],\n",
      "       device='cuda:0')\n"
     ]
    },
    {
     "name": "stderr",
     "output_type": "stream",
     "text": [
      " 25%|██▌       | 34/135 [00:02<00:08, 11.87it/s]"
     ]
    },
    {
     "name": "stdout",
     "output_type": "stream",
     "text": [
      "tensor([[0.9016, 0.9313, 0.8776, 0.8628, 0.8877, 0.7981, 0.9042, 0.9336]],\n",
      "       device='cuda:0')\n",
      "tensor([[0.8209, 0.8714, 0.7819, 0.7588, 0.7980, 0.6640, 0.8252, 0.8754]],\n",
      "       device='cuda:0')\n",
      "tensor([[0.9276, 0.8816, 0.0000, 0.9063, 0.9373, 0.0000, 0.6683, 0.8764]],\n",
      "       device='cuda:0')\n",
      "tensor([[0.8651, 0.7883, 0.0000, 0.8286, 0.8820, 0.0000, 0.5018, 0.7799]],\n",
      "       device='cuda:0')\n",
      "tensor([[0.7711, 0.8776, 0.8840, 0.0000, 0.8972, 0.8228, 0.8823, 0.0000]],\n",
      "       device='cuda:0')\n",
      "tensor([[0.6275, 0.7819, 0.7922, 0.0000, 0.8136, 0.6989, 0.7894, 0.0000]],\n",
      "       device='cuda:0')\n"
     ]
    },
    {
     "name": "stderr",
     "output_type": "stream",
     "text": [
      " 28%|██▊       | 38/135 [00:03<00:08, 11.94it/s]"
     ]
    },
    {
     "name": "stdout",
     "output_type": "stream",
     "text": [
      "tensor([[0.8316, 0.0000, 0.7278, 0.8664, 0.9354, 0.8711, 0.9086, 0.9212]],\n",
      "       device='cuda:0')\n",
      "tensor([[0.7117, 0.0000, 0.5721, 0.7643, 0.8787, 0.7717, 0.8326, 0.8539]],\n",
      "       device='cuda:0')\n",
      "tensor([[0.9463, 0.9427, 0.9419, 0.9295, 0.9224, 0.9238, 0.2154, 0.9528]],\n",
      "       device='cuda:0')\n",
      "tensor([[0.8980, 0.8916, 0.8902, 0.8682, 0.8559, 0.8585, 0.1207, 0.9098]],\n",
      "       device='cuda:0')\n",
      "tensor([[0.0000, 0.9359, 0.9399, 0.5985, 0.8261, 0.0000, 0.9556, 0.9096]],\n",
      "       device='cuda:0')\n",
      "tensor([[0.0000, 0.8795, 0.8867, 0.4270, 0.7037, 0.0000, 0.9149, 0.8342]],\n",
      "       device='cuda:0')\n"
     ]
    },
    {
     "name": "stderr",
     "output_type": "stream",
     "text": [
      " 30%|██▉       | 40/135 [00:03<00:07, 12.04it/s]"
     ]
    },
    {
     "name": "stdout",
     "output_type": "stream",
     "text": [
      "tensor([[0.9285, 0.9395, 0.9221, 0.0000, 0.5156, 0.8540, 1.0000, 0.8652]],\n",
      "       device='cuda:0')\n",
      "tensor([[0.8666, 0.8858, 0.8554, 0.0000, 0.3474, 0.7451, 1.0000, 0.7625]],\n",
      "       device='cuda:0')\n",
      "tensor([[0.9259, 0.9345, 0.8601, 0.9461, 0.0000, 0.8652, 0.9121, 0.9308]],\n",
      "       device='cuda:0')\n",
      "tensor([[0.8620, 0.8770, 0.7545, 0.8977, 0.0000, 0.7624, 0.8384, 0.8705]],\n",
      "       device='cuda:0')\n",
      "tensor([[0.9188, 0.8304, 0.9280, 0.9383, 0.9452, 0.9070, 0.8313, 1.0000]],\n",
      "       device='cuda:0')\n",
      "tensor([[0.8497, 0.7100, 0.8656, 0.8838, 0.8960, 0.8298, 0.7113, 1.0000]],\n",
      "       device='cuda:0')\n"
     ]
    },
    {
     "name": "stderr",
     "output_type": "stream",
     "text": [
      " 33%|███▎      | 44/135 [00:03<00:07, 12.07it/s]"
     ]
    },
    {
     "name": "stdout",
     "output_type": "stream",
     "text": [
      "tensor([[0.9297, 0.9237, 0.8546, 0.0000, 0.9499, 0.9329, 0.8458, 0.1550]],\n",
      "       device='cuda:0')\n",
      "tensor([[0.8686, 0.8581, 0.7462, 0.0000, 0.9046, 0.8743, 0.7329, 0.0840]],\n",
      "       device='cuda:0')\n",
      "tensor([[0.6008, 0.9386, 0.9251, 0.9200, 0.9224, 0.9302, 0.0000, 0.9364]],\n",
      "       device='cuda:0')\n",
      "tensor([[0.4294, 0.8844, 0.8607, 0.8519, 0.8560, 0.8695, 0.0000, 0.8805]],\n",
      "       device='cuda:0')\n",
      "tensor([[0.9274, 0.9375, 0.9220, 0.0000, 0.9430, 0.5692, 0.9477, 0.4312]],\n",
      "       device='cuda:0')\n",
      "tensor([[0.8646, 0.8824, 0.8553, 0.0000, 0.8921, 0.3978, 0.9006, 0.2749]],\n",
      "       device='cuda:0')\n"
     ]
    },
    {
     "name": "stderr",
     "output_type": "stream",
     "text": [
      " 34%|███▍      | 46/135 [00:03<00:07, 12.06it/s]"
     ]
    },
    {
     "name": "stdout",
     "output_type": "stream",
     "text": [
      "tensor([[0.9499, 0.9456, 0.9249, 0.0000, 0.9159, 0.9144, 0.9165, 0.8885]],\n",
      "       device='cuda:0')\n",
      "tensor([[0.9046, 0.8969, 0.8604, 0.0000, 0.8449, 0.8423, 0.8458, 0.7994]],\n",
      "       device='cuda:0')\n",
      "tensor([[0.9489, 0.6180, 0.9355, 0.9107, 0.9323, 0.8251, 0.0000, 0.9527]],\n",
      "       device='cuda:0')\n",
      "tensor([[0.9027, 0.4472, 0.8788, 0.8361, 0.8732, 0.7022, 0.0000, 0.9098]],\n",
      "       device='cuda:0')\n",
      "tensor([[0.0000, 0.9369, 0.9198, 0.7095, 0.8462, 0.9383, 0.7825, 0.9350]],\n",
      "       device='cuda:0')\n",
      "tensor([[0.0000, 0.8813, 0.8515, 0.5498, 0.7334, 0.8838, 0.6427, 0.8779]],\n",
      "       device='cuda:0')\n"
     ]
    },
    {
     "name": "stderr",
     "output_type": "stream",
     "text": [
      " 37%|███▋      | 50/135 [00:04<00:06, 12.14it/s]"
     ]
    },
    {
     "name": "stdout",
     "output_type": "stream",
     "text": [
      "tensor([[0.8796, 0.9266, 0.1373, 0.9472, 0.9432, 0.9283, 0.9207, 0.9175]],\n",
      "       device='cuda:0')\n",
      "tensor([[0.7850, 0.8632, 0.0737, 0.8997, 0.8926, 0.8662, 0.8530, 0.8475]],\n",
      "       device='cuda:0')\n",
      "tensor([[0.8808, 0.9366, 0.9041, 0.9364, 0.9160, 0.9449, 0.9293, 0.9201]],\n",
      "       device='cuda:0')\n",
      "tensor([[0.7870, 0.8808, 0.8249, 0.8804, 0.8450, 0.8956, 0.8680, 0.8519]],\n",
      "       device='cuda:0')\n",
      "tensor([[0.7171, 0.9418, 0.9364, 0.7288, 0.9027, 0.9181, 0.9204, 0.8893]],\n",
      "       device='cuda:0')\n",
      "tensor([[0.5590, 0.8899, 0.8805, 0.5734, 0.8226, 0.8486, 0.8526, 0.8007]],\n",
      "       device='cuda:0')\n"
     ]
    },
    {
     "name": "stderr",
     "output_type": "stream",
     "text": [
      " 39%|███▊      | 52/135 [00:04<00:06, 12.11it/s]"
     ]
    },
    {
     "name": "stdout",
     "output_type": "stream",
     "text": [
      "tensor([[0.8435, 0.9268, 0.9232, 0.6623, 0.9009, 0.8700, 0.9022, 0.8709]],\n",
      "       device='cuda:0')\n",
      "tensor([[0.7294, 0.8637, 0.8573, 0.4951, 0.8196, 0.7699, 0.8219, 0.7713]],\n",
      "       device='cuda:0')\n",
      "tensor([[0.8971, 0.6758, 0.0000, 0.7851, 0.8957, 0.8899, 0.8629, 0.7881]],\n",
      "       device='cuda:0')\n",
      "tensor([[0.8134, 0.5104, 0.0000, 0.6463, 0.8111, 0.8017, 0.7589, 0.6503]],\n",
      "       device='cuda:0')\n",
      "tensor([[0.8566, 0.9383, 0.4748, 0.8052, 0.7256, 0.9316, 0.9222, 0.9009]],\n",
      "       device='cuda:0')\n",
      "tensor([[0.7491, 0.8838, 0.3113, 0.6739, 0.5693, 0.8720, 0.8556, 0.8197]],\n",
      "       device='cuda:0')\n"
     ]
    },
    {
     "name": "stderr",
     "output_type": "stream",
     "text": [
      " 41%|████▏     | 56/135 [00:04<00:06, 12.11it/s]"
     ]
    },
    {
     "name": "stdout",
     "output_type": "stream",
     "text": [
      "tensor([[0.9185, 0.8689, 0.6322, 0.0000, 0.9383, 0.9119, 0.9191, 0.9196]],\n",
      "       device='cuda:0')\n",
      "tensor([[0.8494, 0.7683, 0.4622, 0.0000, 0.8838, 0.8380, 0.8504, 0.8512]],\n",
      "       device='cuda:0')\n",
      "tensor([[0.9499, 0.9308, 0.9246, 0.9455, 0.4254, 0.9210, 0.8907, 0.0000]],\n",
      "       device='cuda:0')\n",
      "tensor([[0.9046, 0.8705, 0.8598, 0.8966, 0.2702, 0.8536, 0.8030, 0.0000]],\n",
      "       device='cuda:0')\n",
      "tensor([[0.9237, 0.9389, 0.9439, 0.9451, 0.9325, 0.9324, 0.9064, 0.6236]],\n",
      "       device='cuda:0')\n",
      "tensor([[0.8582, 0.8849, 0.8937, 0.8960, 0.8736, 0.8734, 0.8289, 0.4530]],\n",
      "       device='cuda:0')\n"
     ]
    },
    {
     "name": "stderr",
     "output_type": "stream",
     "text": [
      " 43%|████▎     | 58/135 [00:04<00:06, 12.17it/s]"
     ]
    },
    {
     "name": "stdout",
     "output_type": "stream",
     "text": [
      "tensor([[0.9337, 0.0000, 0.9364, 0.9152, 0.9336, 0.0000, 0.9015, 0.9267]],\n",
      "       device='cuda:0')\n",
      "tensor([[0.8756, 0.0000, 0.8804, 0.8437, 0.8754, 0.0000, 0.8207, 0.8634]],\n",
      "       device='cuda:0')\n",
      "tensor([[0.9287, 0.0000, 0.9107, 0.9346, 0.9297, 0.9397, 0.6853, 0.9420]],\n",
      "       device='cuda:0')\n",
      "tensor([[0.8669, 0.0000, 0.8361, 0.8773, 0.8687, 0.8863, 0.5212, 0.8903]],\n",
      "       device='cuda:0')\n",
      "tensor([[0.9137, 0.8832, 0.0000, 0.9186, 0.8915, 0.9092, 0.8037, 0.9196]],\n",
      "       device='cuda:0')\n",
      "tensor([[0.8412, 0.7908, 0.0000, 0.8494, 0.8042, 0.8336, 0.6718, 0.8512]],\n",
      "       device='cuda:0')\n"
     ]
    },
    {
     "name": "stderr",
     "output_type": "stream",
     "text": [
      " 46%|████▌     | 62/135 [00:05<00:06, 12.11it/s]"
     ]
    },
    {
     "name": "stdout",
     "output_type": "stream",
     "text": [
      "tensor([[0.9394, 0.8956, 0.8253, 0.8431, 0.9378, 0.8458, 0.9015, 0.8060]],\n",
      "       device='cuda:0')\n",
      "tensor([[0.8858, 0.8110, 0.7026, 0.7287, 0.8828, 0.7327, 0.8207, 0.6750]],\n",
      "       device='cuda:0')\n",
      "tensor([[0.8563, 0.5966, 0.9119, 0.0000, 0.9061, 0.2606, 0.4441, 0.7056]],\n",
      "       device='cuda:0')\n",
      "tensor([[0.7487, 0.4251, 0.8380, 0.0000, 0.8284, 0.1498, 0.2854, 0.5452]],\n",
      "       device='cuda:0')\n",
      "tensor([[0.0000, 0.9134, 0.9275, 0.9312, 0.9372, 0.9474, 0.8555, 0.8291]],\n",
      "       device='cuda:0')\n",
      "tensor([[0.0000, 0.8406, 0.8648, 0.8712, 0.8818, 0.9000, 0.7474, 0.7081]],\n",
      "       device='cuda:0')\n"
     ]
    },
    {
     "name": "stderr",
     "output_type": "stream",
     "text": [
      " 47%|████▋     | 64/135 [00:05<00:05, 12.04it/s]"
     ]
    },
    {
     "name": "stdout",
     "output_type": "stream",
     "text": [
      "tensor([[0.9311, 0.9041, 0.0000, 0.9281, 0.9135, 0.8657, 0.9350, 0.9366]],\n",
      "       device='cuda:0')\n",
      "tensor([[0.8711, 0.8250, 0.0000, 0.8658, 0.8407, 0.7632, 0.8779, 0.8807]],\n",
      "       device='cuda:0')\n",
      "tensor([[0.9316, 0.9197, 0.7885, 0.8769, 0.9358, 0.9342, 0.9260, 0.9280]],\n",
      "       device='cuda:0')\n",
      "tensor([[0.8719, 0.8514, 0.6509, 0.7808, 0.8794, 0.8766, 0.8622, 0.8657]],\n",
      "       device='cuda:0')\n",
      "tensor([[0.9176, 0.9162, 0.9151, 0.9273, 0.9394, 0.9179, 0.9380, 0.0000]],\n",
      "       device='cuda:0')\n",
      "tensor([[0.8478, 0.8453, 0.8435, 0.8644, 0.8857, 0.8482, 0.8833, 0.0000]],\n",
      "       device='cuda:0')\n"
     ]
    },
    {
     "name": "stderr",
     "output_type": "stream",
     "text": [
      " 50%|█████     | 68/135 [00:05<00:05, 11.94it/s]"
     ]
    },
    {
     "name": "stdout",
     "output_type": "stream",
     "text": [
      "tensor([[0.9308, 0.0000, 0.9141, 0.9203, 0.9425, 0.9400, 0.8912, 0.9207]],\n",
      "       device='cuda:0')\n",
      "tensor([[0.8705, 0.0000, 0.8418, 0.8524, 0.8913, 0.8868, 0.8037, 0.8530]],\n",
      "       device='cuda:0')\n",
      "tensor([[0.8929, 0.9389, 0.9376, 0.9497, 0.6712, 0.9244, 0.9027, 0.7420]],\n",
      "       device='cuda:0')\n",
      "tensor([[0.8066, 0.8848, 0.8826, 0.9043, 0.5051, 0.8594, 0.8227, 0.5899]],\n",
      "       device='cuda:0')\n",
      "tensor([[0.7126, 0.9186, 0.9256, 0.8502, 0.9428, 0.5525, 0.3599, 0.9365]],\n",
      "       device='cuda:0')\n",
      "tensor([[0.5535, 0.8495, 0.8615, 0.7394, 0.8919, 0.3817, 0.2194, 0.8806]],\n",
      "       device='cuda:0')\n"
     ]
    },
    {
     "name": "stderr",
     "output_type": "stream",
     "text": [
      " 52%|█████▏    | 70/135 [00:05<00:05, 11.92it/s]"
     ]
    },
    {
     "name": "stdout",
     "output_type": "stream",
     "text": [
      "tensor([[0.9217, 0.8683, 0.9047, 0.8412, 0.9050, 0.8565, 0.8645, 0.9400]],\n",
      "       device='cuda:0')\n",
      "tensor([[0.8547, 0.7672, 0.8260, 0.7259, 0.8265, 0.7490, 0.7614, 0.8869]],\n",
      "       device='cuda:0')\n",
      "tensor([[0.8996, 0.9002, 0.9042, 0.8809, 0.8493, 0.8964, 0.8390, 0.8805]],\n",
      "       device='cuda:0')\n",
      "tensor([[0.8176, 0.8184, 0.8251, 0.7872, 0.7381, 0.8123, 0.7227, 0.7865]],\n",
      "       device='cuda:0')\n",
      "tensor([[0.6419, 0.5925, 0.0000, 0.6781, 0.9250, 0.9235, 0.6497, 0.8857]],\n",
      "       device='cuda:0')\n",
      "tensor([[0.4727, 0.4210, 0.0000, 0.5129, 0.8604, 0.8579, 0.4811, 0.7949]],\n",
      "       device='cuda:0')\n"
     ]
    },
    {
     "name": "stderr",
     "output_type": "stream",
     "text": [
      " 55%|█████▍    | 74/135 [00:06<00:05, 11.97it/s]"
     ]
    },
    {
     "name": "stdout",
     "output_type": "stream",
     "text": [
      "tensor([[0.9318, 0.8931, 0.9282, 0.9038, 0.6918, 0.9026, 0.9178, 0.8311]],\n",
      "       device='cuda:0')\n",
      "tensor([[0.8723, 0.8069, 0.8660, 0.8245, 0.5288, 0.8225, 0.8482, 0.7110]],\n",
      "       device='cuda:0')\n",
      "tensor([[0.9399, 0.8998, 0.5144, 0.9263, 0.8901, 0.8824, 0.8946, 0.9173]],\n",
      "       device='cuda:0')\n",
      "tensor([[0.8866, 0.8178, 0.3462, 0.8628, 0.8020, 0.7895, 0.8093, 0.8472]],\n",
      "       device='cuda:0')\n",
      "tensor([[0.7981, 0.9256, 0.6542, 0.8548, 0.9299, 0.9081, 0.8977, 0.9461]],\n",
      "       device='cuda:0')\n",
      "tensor([[0.6641, 0.8615, 0.4861, 0.7465, 0.8691, 0.8317, 0.8144, 0.8977]],\n",
      "       device='cuda:0')\n"
     ]
    },
    {
     "name": "stderr",
     "output_type": "stream",
     "text": [
      " 56%|█████▋    | 76/135 [00:06<00:04, 11.81it/s]"
     ]
    },
    {
     "name": "stdout",
     "output_type": "stream",
     "text": [
      "tensor([[0.9326, 0.0000, 0.9099, 0.9173, 0.7562, 0.8948, 0.9348, 0.0000]],\n",
      "       device='cuda:0')\n",
      "tensor([[0.8736, 0.0000, 0.8346, 0.8472, 0.6080, 0.8096, 0.8777, 0.0000]],\n",
      "       device='cuda:0')\n",
      "tensor([[1.0000, 0.8579, 0.6249, 0.9298, 0.9175, 0.9043, 0.9442, 1.0000]],\n",
      "       device='cuda:0')\n",
      "tensor([[1.0000, 0.7511, 0.4544, 0.8688, 0.8477, 0.8254, 0.8944, 1.0000]],\n",
      "       device='cuda:0')\n",
      "tensor([[0.8485, 0.9166, 0.8957, 0.9360, 0.9544, 0.8698, 0.7360, 0.0000]],\n",
      "       device='cuda:0')\n",
      "tensor([[0.7369, 0.8460, 0.8110, 0.8796, 0.9127, 0.7697, 0.5823, 0.0000]],\n",
      "       device='cuda:0')\n"
     ]
    },
    {
     "name": "stderr",
     "output_type": "stream",
     "text": [
      " 59%|█████▉    | 80/135 [00:06<00:04, 11.98it/s]"
     ]
    },
    {
     "name": "stdout",
     "output_type": "stream",
     "text": [
      "tensor([[0.0000, 0.8726, 0.9145, 0.9050, 0.4545, 1.0000, 0.8739, 0.9001]],\n",
      "       device='cuda:0')\n",
      "tensor([[0.0000, 0.7741, 0.8425, 0.8265, 0.2941, 1.0000, 0.7761, 0.8183]],\n",
      "       device='cuda:0')\n",
      "tensor([[0.9287, 0.8831, 0.7920, 0.8484, 0.8963, 0.9327, 0.9066, 0.9155]],\n",
      "       device='cuda:0')\n",
      "tensor([[0.8669, 0.7906, 0.6557, 0.7367, 0.8120, 0.8739, 0.8292, 0.8441]],\n",
      "       device='cuda:0')\n",
      "tensor([[0.8959, 0.8583, 1.0000, 0.8943, 0.8622, 0.9145, 0.8286, 0.0000]],\n",
      "       device='cuda:0')\n",
      "tensor([[0.8115, 0.7517, 1.0000, 0.8089, 0.7577, 0.8424, 0.7073, 0.0000]],\n",
      "       device='cuda:0')\n"
     ]
    },
    {
     "name": "stderr",
     "output_type": "stream",
     "text": [
      " 61%|██████    | 82/135 [00:06<00:04, 12.03it/s]"
     ]
    },
    {
     "name": "stdout",
     "output_type": "stream",
     "text": [
      "tensor([[0.7943, 0.9249, 0.5680, 0.8889, 0.8740, 0.8957, 0.7651, 0.8888]],\n",
      "       device='cuda:0')\n",
      "tensor([[0.6588, 0.8603, 0.3967, 0.8000, 0.7762, 0.8111, 0.6196, 0.7998]],\n",
      "       device='cuda:0')\n",
      "tensor([[0.0000, 0.7749, 1.0000, 0.8728, 0.9064, 0.8995, 0.8225, 0.9032]],\n",
      "       device='cuda:0')\n",
      "tensor([[0.0000, 0.6325, 1.0000, 0.7743, 0.8288, 0.8173, 0.6985, 0.8235]],\n",
      "       device='cuda:0')\n",
      "tensor([[0.9036, 1.0000, 0.0000, 0.0000, 0.4428, 0.9207, 0.8967, 0.6999]],\n",
      "       device='cuda:0')\n",
      "tensor([[0.8241, 1.0000, 0.0000, 0.0000, 0.2843, 0.8531, 0.8127, 0.5383]],\n",
      "       device='cuda:0')\n"
     ]
    },
    {
     "name": "stderr",
     "output_type": "stream",
     "text": [
      " 64%|██████▎   | 86/135 [00:07<00:04, 11.92it/s]"
     ]
    },
    {
     "name": "stdout",
     "output_type": "stream",
     "text": [
      "tensor([[0.9300, 0.8848, 0.5052, 0.8672, 0.9183, 0.3845, 0.8100, 0.9142]],\n",
      "       device='cuda:0')\n",
      "tensor([[0.8691, 0.7935, 0.3380, 0.7656, 0.8490, 0.2380, 0.6807, 0.8420]],\n",
      "       device='cuda:0')\n",
      "tensor([[0.9458, 1.0000, 0.9318, 0.6740, 0.0000, 0.8915, 0.8417, 0.8754]],\n",
      "       device='cuda:0')\n",
      "tensor([[0.8972, 1.0000, 0.8723, 0.5083, 0.0000, 0.8043, 0.7267, 0.7784]],\n",
      "       device='cuda:0')\n",
      "tensor([[0.7542, 0.8981, 0.8841, 0.8619, 0.5836, 0.8527, 0.8684, 0.8381]],\n",
      "       device='cuda:0')\n",
      "tensor([[0.6054, 0.8150, 0.7923, 0.7574, 0.4121, 0.7432, 0.7673, 0.7213]],\n",
      "       device='cuda:0')\n"
     ]
    },
    {
     "name": "stderr",
     "output_type": "stream",
     "text": [
      " 65%|██████▌   | 88/135 [00:07<00:03, 11.92it/s]"
     ]
    },
    {
     "name": "stdout",
     "output_type": "stream",
     "text": [
      "tensor([[0.8391, 0.8511, 0.4751, 0.8267, 0.7300, 0.7994, 0.8736, 0.8904]],\n",
      "       device='cuda:0')\n",
      "tensor([[0.7228, 0.7409, 0.3115, 0.7045, 0.5748, 0.6658, 0.7756, 0.8024]],\n",
      "       device='cuda:0')\n",
      "tensor([[0.9103, 0.9083, 1.0000, 0.0078, 0.9127, 0.9519, 0.8346, 0.3345]],\n",
      "       device='cuda:0')\n",
      "tensor([[0.8354, 0.8319, 1.0000, 0.0039, 0.8395, 0.9082, 0.7162, 0.2009]],\n",
      "       device='cuda:0')\n",
      "tensor([[0.9108, 0.9588, 0.9099, 0.8992, 0.8686, 0.8571, 0.9476, 0.9084]],\n",
      "       device='cuda:0')\n",
      "tensor([[0.8362, 0.9209, 0.8346, 0.8169, 0.7677, 0.7500, 0.9004, 0.8323]],\n",
      "       device='cuda:0')\n"
     ]
    },
    {
     "name": "stderr",
     "output_type": "stream",
     "text": [
      " 68%|██████▊   | 92/135 [00:07<00:03, 11.91it/s]"
     ]
    },
    {
     "name": "stdout",
     "output_type": "stream",
     "text": [
      "tensor([[0.5689, 0.9209, 0.9150, 0.9478, 0.9582, 0.9530, 0.5772, 0.9211]],\n",
      "       device='cuda:0')\n",
      "tensor([[0.3976, 0.8533, 0.8433, 0.9008, 0.9197, 0.9103, 0.4057, 0.8538]],\n",
      "       device='cuda:0')\n",
      "tensor([[0.9497, 0.0000, 0.9585, 0.8971, 0.9587, 0.5645, 0.9175, 0.9345]],\n",
      "       device='cuda:0')\n",
      "tensor([[0.9042, 0.0000, 0.9203, 0.8134, 0.9207, 0.3932, 0.8475, 0.8770]],\n",
      "       device='cuda:0')\n",
      "tensor([[0.9361, 0.9380, 0.8401, 0.8830, 0.9291, 0.8657, 0.7414, 0.9056]],\n",
      "       device='cuda:0')\n",
      "tensor([[0.8799, 0.8832, 0.7243, 0.7905, 0.8675, 0.7633, 0.5890, 0.8275]],\n",
      "       device='cuda:0')\n"
     ]
    },
    {
     "name": "stderr",
     "output_type": "stream",
     "text": [
      " 70%|██████▉   | 94/135 [00:07<00:03, 11.94it/s]"
     ]
    },
    {
     "name": "stdout",
     "output_type": "stream",
     "text": [
      "tensor([[0.9336, 0.9141, 0.9167, 0.9003, 0.9151, 0.6381, 0.0000, 0.9472]],\n",
      "       device='cuda:0')\n",
      "tensor([[0.8755, 0.8417, 0.8461, 0.8186, 0.8435, 0.4685, 0.0000, 0.8996]],\n",
      "       device='cuda:0')\n",
      "tensor([[0.9145, 0.9360, 0.8912, 0.8900, 0.8016, 0.0000, 0.8380, 0.8617]],\n",
      "       device='cuda:0')\n",
      "tensor([[0.8424, 0.8797, 0.8038, 0.8017, 0.6689, 0.0000, 0.7212, 0.7570]],\n",
      "       device='cuda:0')\n",
      "tensor([[1.0000, 0.7611, 0.0000, 0.9051, 0.8659, 0.9147, 0.8549, 0.9132]],\n",
      "       device='cuda:0')\n",
      "tensor([[1.0000, 0.6143, 0.0000, 0.8267, 0.7636, 0.8428, 0.7466, 0.8403]],\n",
      "       device='cuda:0')\n"
     ]
    },
    {
     "name": "stderr",
     "output_type": "stream",
     "text": [
      " 73%|███████▎  | 98/135 [00:08<00:03, 12.12it/s]"
     ]
    },
    {
     "name": "stdout",
     "output_type": "stream",
     "text": [
      "tensor([[0.7311, 0.8820, 0.0000, 0.9228, 0.8925, 0.8851, 0.9115, 0.9099]],\n",
      "       device='cuda:0')\n",
      "tensor([[0.5762, 0.7890, 0.0000, 0.8568, 0.8058, 0.7939, 0.8375, 0.8347]],\n",
      "       device='cuda:0')\n",
      "tensor([[0.9324, 0.9084, 1.0000, 0.0000, 0.8838, 0.9245, 0.9017, 0.8567]],\n",
      "       device='cuda:0')\n",
      "tensor([[0.8733, 0.8322, 1.0000, 0.0000, 0.7918, 0.8595, 0.8210, 0.7493]],\n",
      "       device='cuda:0')\n",
      "tensor([[0.9219, 0.9065, 0.9011, 0.6477, 0.9227, 0.0000, 0.9337, 0.9104]],\n",
      "       device='cuda:0')\n",
      "tensor([[0.8551, 0.8291, 0.8200, 0.4789, 0.8565, 0.0000, 0.8756, 0.8355]],\n",
      "       device='cuda:0')\n"
     ]
    },
    {
     "name": "stderr",
     "output_type": "stream",
     "text": [
      " 74%|███████▍  | 100/135 [00:08<00:02, 12.09it/s]"
     ]
    },
    {
     "name": "stdout",
     "output_type": "stream",
     "text": [
      "tensor([[0.0000, 0.6841, 0.8883, 0.8549, 0.9288, 0.8367, 0.8937, 0.9111]],\n",
      "       device='cuda:0')\n",
      "tensor([[0.0000, 0.5199, 0.7990, 0.7466, 0.8670, 0.7193, 0.8077, 0.8366]],\n",
      "       device='cuda:0')\n",
      "tensor([[0.6294, 0.8270, 0.9153, 0.7536, 0.9255, 0.9144, 0.8678, 0.9279]],\n",
      "       device='cuda:0')\n",
      "tensor([[0.4592, 0.7050, 0.8438, 0.6046, 0.8613, 0.8424, 0.7665, 0.8656]],\n",
      "       device='cuda:0')\n",
      "tensor([[0.0000, 0.8515, 0.9091, 0.0000, 0.8844, 0.9013, 0.0000, 0.9233]],\n",
      "       device='cuda:0')\n",
      "tensor([[0.0000, 0.7414, 0.8333, 0.0000, 0.7927, 0.8203, 0.0000, 0.8576]],\n",
      "       device='cuda:0')\n"
     ]
    },
    {
     "name": "stderr",
     "output_type": "stream",
     "text": [
      " 77%|███████▋  | 104/135 [00:08<00:02, 12.05it/s]"
     ]
    },
    {
     "name": "stdout",
     "output_type": "stream",
     "text": [
      "tensor([[0.9377, 0.9136, 0.9306, 0.8998, 0.0000, 0.0000, 0.9374, 0.5580]],\n",
      "       device='cuda:0')\n",
      "tensor([[0.8827, 0.8409, 0.8702, 0.8178, 0.0000, 0.0000, 0.8821, 0.3870]],\n",
      "       device='cuda:0')\n",
      "tensor([[0.9220, 0.9281, 0.9098, 0.6239, 0.9408, 0.9127, 0.9278, 0.8058]],\n",
      "       device='cuda:0')\n",
      "tensor([[0.8553, 0.8658, 0.8345, 0.4534, 0.8883, 0.8395, 0.8653, 0.6747]],\n",
      "       device='cuda:0')\n",
      "tensor([[0.8491, 0.6223, 0.9164, 0.9219, 0.8881, 0.9227, 0.0000, 0.9279]],\n",
      "       device='cuda:0')\n",
      "tensor([[0.7377, 0.4517, 0.8457, 0.8551, 0.7988, 0.8565, 0.0000, 0.8655]],\n",
      "       device='cuda:0')\n"
     ]
    },
    {
     "name": "stderr",
     "output_type": "stream",
     "text": [
      " 79%|███████▊  | 106/135 [00:08<00:02, 12.01it/s]"
     ]
    },
    {
     "name": "stdout",
     "output_type": "stream",
     "text": [
      "tensor([[0.9371, 0.9272, 0.0000, 0.9241, 0.9436, 0.9538, 0.9268, 0.8483]],\n",
      "       device='cuda:0')\n",
      "tensor([[0.8817, 0.8643, 0.0000, 0.8590, 0.8932, 0.9117, 0.8635, 0.7366]],\n",
      "       device='cuda:0')\n",
      "tensor([[0.0000, 0.7944, 0.8867, 0.9043, 0.9332, 0.7678, 0.8905, 0.7826]],\n",
      "       device='cuda:0')\n",
      "tensor([[0.0000, 0.6589, 0.7965, 0.8252, 0.8747, 0.6231, 0.8026, 0.6428]],\n",
      "       device='cuda:0')\n",
      "tensor([[0.7918, 0.5281, 0.9255, 0.8531, 0.0000, 0.9276, 0.9064, 0.0000]],\n",
      "       device='cuda:0')\n",
      "tensor([[0.6554, 0.3588, 0.8613, 0.7439, 0.0000, 0.8650, 0.8289, 0.0000]],\n",
      "       device='cuda:0')\n"
     ]
    },
    {
     "name": "stderr",
     "output_type": "stream",
     "text": [
      " 81%|████████▏ | 110/135 [00:09<00:02, 11.71it/s]"
     ]
    },
    {
     "name": "stdout",
     "output_type": "stream",
     "text": [
      "tensor([[0.9237, 0.9396, 0.9184, 0.9200, 0.9114, 0.8659, 1.0000, 0.8267]],\n",
      "       device='cuda:0')\n",
      "tensor([[0.8582, 0.8861, 0.8492, 0.8518, 0.8373, 0.7635, 1.0000, 0.7046]],\n",
      "       device='cuda:0')\n",
      "tensor([[0.9384, 0.8323, 0.9248, 0.8904, 0.7406, 0.5510, 0.9146, 0.9355]],\n",
      "       device='cuda:0')\n",
      "tensor([[0.8840, 0.7128, 0.8600, 0.8024, 0.5881, 0.3803, 0.8427, 0.8788]],\n",
      "       device='cuda:0')\n",
      "tensor([[0.9045, 0.7822, 0.8809, 0.6661, 0.0000, 0.0000, 0.9188, 0.8874]],\n",
      "       device='cuda:0')\n",
      "tensor([[0.8257, 0.6423, 0.7872, 0.4993, 0.0000, 0.0000, 0.8498, 0.7977]],\n",
      "       device='cuda:0')\n"
     ]
    },
    {
     "name": "stderr",
     "output_type": "stream",
     "text": [
      " 83%|████████▎ | 112/135 [00:09<00:01, 11.82it/s]"
     ]
    },
    {
     "name": "stdout",
     "output_type": "stream",
     "text": [
      "tensor([[0.9442, 0.7700, 0.9151, 0.8869, 0.9138, 0.9042, 0.9060, 0.8872]],\n",
      "       device='cuda:0')\n",
      "tensor([[0.8944, 0.6260, 0.8434, 0.7968, 0.8413, 0.8252, 0.8282, 0.7973]],\n",
      "       device='cuda:0')\n",
      "tensor([[0.8198, 0.8179, 0.9324, 0.8466, 0.8902, 0.9465, 0.8146, 0.8709]],\n",
      "       device='cuda:0')\n",
      "tensor([[0.6947, 0.6919, 0.8734, 0.7340, 0.8022, 0.8985, 0.6871, 0.7713]],\n",
      "       device='cuda:0')\n",
      "tensor([[0.9103, 0.9511, 0.9376, 0.9481, 0.9283, 0.9187, 0.9391, 0.9230]],\n",
      "       device='cuda:0')\n",
      "tensor([[0.8353, 0.9067, 0.8825, 0.9013, 0.8663, 0.8497, 0.8852, 0.8569]],\n",
      "       device='cuda:0')\n"
     ]
    },
    {
     "name": "stderr",
     "output_type": "stream",
     "text": [
      " 86%|████████▌ | 116/135 [00:09<00:01, 12.28it/s]"
     ]
    },
    {
     "name": "stdout",
     "output_type": "stream",
     "text": [
      "tensor([[0.9296, 0.9318, 0.9442, 0.8069, 0.9187, 0.9316, 0.7535, 0.9228]],\n",
      "       device='cuda:0')\n",
      "tensor([[0.8684, 0.8723, 0.8943, 0.6763, 0.8497, 0.8720, 0.6045, 0.8567]],\n",
      "       device='cuda:0')\n",
      "tensor([[0.8609, 0.0000, 0.7384, 1.0000, 0.9369, 0.9194, 0.9054, 0.9357]],\n",
      "       device='cuda:0')\n",
      "tensor([[0.7558, 0.0000, 0.5853, 1.0000, 0.8813, 0.8509, 0.8271, 0.8792]],\n",
      "       device='cuda:0')\n",
      "tensor([[0.8500, 0.8525, 0.9328, 0.4972, 0.0000, 0.9391, 0.8689, 0.8458]],\n",
      "       device='cuda:0')\n",
      "tensor([[0.7391, 0.7429, 0.8741, 0.3309, 0.0000, 0.8852, 0.7682, 0.7328]],\n",
      "       device='cuda:0')\n"
     ]
    },
    {
     "name": "stderr",
     "output_type": "stream",
     "text": [
      " 87%|████████▋ | 118/135 [00:09<00:01, 12.32it/s]"
     ]
    },
    {
     "name": "stdout",
     "output_type": "stream",
     "text": [
      "tensor([[0.8874, 0.8477, 0.8957, 0.8708, 0.9245, 0.9238, 0.8995, 0.6822]],\n",
      "       device='cuda:0')\n",
      "tensor([[0.7975, 0.7357, 0.8111, 0.7712, 0.8595, 0.8584, 0.8173, 0.5177]],\n",
      "       device='cuda:0')\n",
      "tensor([[0.8737, 0.6709, 0.9106, 0.9199, 0.8771, 0.9191, 1.0000, 1.0000]],\n",
      "       device='cuda:0')\n",
      "tensor([[0.7758, 0.5048, 0.8358, 0.8516, 0.7810, 0.8504, 1.0000, 1.0000]],\n",
      "       device='cuda:0')\n",
      "tensor([[0.9194, 0.9028, 0.8778, 0.7896, 0.9191, 0.0000, 0.9374, 0.9302]],\n",
      "       device='cuda:0')\n",
      "tensor([[0.8509, 0.8228, 0.7823, 0.6523, 0.8503, 0.0000, 0.8822, 0.8695]],\n",
      "       device='cuda:0')\n"
     ]
    },
    {
     "name": "stderr",
     "output_type": "stream",
     "text": [
      " 90%|█████████ | 122/135 [00:10<00:01, 12.37it/s]"
     ]
    },
    {
     "name": "stdout",
     "output_type": "stream",
     "text": [
      "tensor([[0.9266, 0.6542, 0.9374, 0.8107, 0.9397, 0.9460, 0.5944, 0.9291]],\n",
      "       device='cuda:0')\n",
      "tensor([[0.8632, 0.4861, 0.8822, 0.6817, 0.8862, 0.8975, 0.4229, 0.8675]],\n",
      "       device='cuda:0')\n",
      "tensor([[0.8988, 1.0000, 0.9110, 0.6207, 0.9358, 0.9113, 0.0590, 0.9342]],\n",
      "       device='cuda:0')\n",
      "tensor([[0.8162, 1.0000, 0.8366, 0.4500, 0.8794, 0.8370, 0.0304, 0.8766]],\n",
      "       device='cuda:0')\n",
      "tensor([[0.9474, 0.9275, 0.8804, 0.9381, 0.0000, 0.9472, 0.0000, 0.9147]],\n",
      "       device='cuda:0')\n",
      "tensor([[0.9001, 0.8649, 0.7863, 0.8834, 0.0000, 0.8996, 0.0000, 0.8428]],\n",
      "       device='cuda:0')\n"
     ]
    },
    {
     "name": "stderr",
     "output_type": "stream",
     "text": [
      " 92%|█████████▏| 124/135 [00:10<00:00, 12.30it/s]"
     ]
    },
    {
     "name": "stdout",
     "output_type": "stream",
     "text": [
      "tensor([[0.9245, 0.9047, 0.9186, 0.9160, 0.8839, 0.9118, 0.0000, 0.9259]],\n",
      "       device='cuda:0')\n",
      "tensor([[0.8596, 0.8260, 0.8495, 0.8450, 0.7919, 0.8379, 0.0000, 0.8620]],\n",
      "       device='cuda:0')\n",
      "tensor([[0.9318, 0.9394, 0.9374, 0.9256, 0.7745, 0.9375, 0.5642, 0.9407]],\n",
      "       device='cuda:0')\n",
      "tensor([[0.8722, 0.8858, 0.8822, 0.8616, 0.6320, 0.8824, 0.3930, 0.8880]],\n",
      "       device='cuda:0')\n",
      "tensor([[0.9417, 0.9223, 0.9268, 0.9317, 0.9377, 0.9443, 0.8163, 0.9405]],\n",
      "       device='cuda:0')\n",
      "tensor([[0.8899, 0.8559, 0.8636, 0.8721, 0.8828, 0.8945, 0.6897, 0.8877]],\n",
      "       device='cuda:0')\n"
     ]
    },
    {
     "name": "stderr",
     "output_type": "stream",
     "text": [
      " 95%|█████████▍| 128/135 [00:10<00:00, 12.24it/s]"
     ]
    },
    {
     "name": "stdout",
     "output_type": "stream",
     "text": [
      "tensor([[0.0000, 0.9361, 0.9265, 0.9345, 0.6832, 0.9186, 0.9346, 0.9316]],\n",
      "       device='cuda:0')\n",
      "tensor([[0.0000, 0.8798, 0.8630, 0.8771, 0.5189, 0.8495, 0.8773, 0.8719]],\n",
      "       device='cuda:0')\n",
      "tensor([[0.6486, 0.9056, 0.6688, 0.9148, 0.9002, 0.8989, 0.0000, 0.9435]],\n",
      "       device='cuda:0')\n",
      "tensor([[0.4800, 0.8274, 0.5024, 0.8429, 0.8186, 0.8164, 0.0000, 0.8931]],\n",
      "       device='cuda:0')\n",
      "tensor([[0.9197, 0.5517, 0.9344, 0.8880, 0.9365, 0.9462, 0.9403, 0.9452]],\n",
      "       device='cuda:0')\n",
      "tensor([[0.8514, 0.3809, 0.8768, 0.7985, 0.8806, 0.8979, 0.8874, 0.8961]],\n",
      "       device='cuda:0')\n"
     ]
    },
    {
     "name": "stderr",
     "output_type": "stream",
     "text": [
      " 96%|█████████▋| 130/135 [00:10<00:00, 12.21it/s]"
     ]
    },
    {
     "name": "stdout",
     "output_type": "stream",
     "text": [
      "tensor([[0.9561, 0.8972, 0.5503, 0.5975, 0.9241, 0.8333, 0.9463, 0.9163]],\n",
      "       device='cuda:0')\n",
      "tensor([[0.9159, 0.8136, 0.3796, 0.4260, 0.8589, 0.7143, 0.8981, 0.8455]],\n",
      "       device='cuda:0')\n",
      "tensor([[0.9177, 0.9519, 0.9208, 0.9249, 0.9238, 0.5574, 0.5259, 0.9434]],\n",
      "       device='cuda:0')\n",
      "tensor([[0.8479, 0.9082, 0.8532, 0.8603, 0.8583, 0.3864, 0.3567, 0.8929]],\n",
      "       device='cuda:0')\n",
      "tensor([[0.9254, 0.9118, 0.8955, 0.9211, 0.9228, 0.9520, 0.9437, 0.7335]],\n",
      "       device='cuda:0')\n",
      "tensor([[0.8611, 0.8379, 0.8108, 0.8537, 0.8567, 0.9084, 0.8935, 0.5791]],\n",
      "       device='cuda:0')\n"
     ]
    },
    {
     "name": "stderr",
     "output_type": "stream",
     "text": [
      "100%|██████████| 135/135 [00:11<00:00, 11.95it/s]"
     ]
    },
    {
     "name": "stdout",
     "output_type": "stream",
     "text": [
      "tensor([[0.8602, 0.9156, 0.9155, 0.7961, 0.9133, 0.0000, 0.9015, 0.5534]],\n",
      "       device='cuda:0')\n",
      "tensor([[0.7546, 0.8444, 0.8442, 0.6613, 0.8405, 0.0000, 0.8206, 0.3825]],\n",
      "       device='cuda:0')\n",
      "tensor([[0.9176, 0.9299, 0.9081, 0.8735, 0.6994, 0.9025, 0.8437, 0.9013]],\n",
      "       device='cuda:0')\n",
      "tensor([[0.8477, 0.8689, 0.8316, 0.7755, 0.5378, 0.8223, 0.7296, 0.8203]],\n",
      "       device='cuda:0')\n",
      "tensor([[0.8533, 0.9107, 0.8587, 0.8610, 0.8899, 0.9043, 0.8011, 0.7864]],\n",
      "       device='cuda:0')\n",
      "tensor([[0.7442, 0.8361, 0.7525, 0.7559, 0.8016, 0.8253, 0.6682, 0.6480]],\n",
      "       device='cuda:0')\n",
      "tensor([[0.9396, 0.4747, 0.7869, 0.8928]], device='cuda:0')\n",
      "tensor([[0.8861, 0.3112, 0.6486, 0.8063]], device='cuda:0')\n",
      "Mean Dice coefficient: 0.7969261840537742\n",
      "Mean IoU: 0.7174175191808629\n"
     ]
    },
    {
     "name": "stderr",
     "output_type": "stream",
     "text": [
      "\n"
     ]
    }
   ],
   "source": [
    "# Initialize evaluation metrics\n",
    "sum_dice = 0.0\n",
    "sum_mean_iou = 0.0\n",
    "num_samples = 0\n",
    "\n",
    "dice_metric = monai.metrics.DiceMetric(include_background=True,\n",
    "                                       reduction=\"mean\", \n",
    "                                       ignore_empty=False)\n",
    "#hausdorff_distance_metric = monai.metrics.HausdorffDistanceMetric(include_background=True, reduction=\"mean\")\n",
    "mean_iou_metric = monai.metrics.MeanIoU(include_background=True, reduction=\"mean\", ignore_empty=False)\n",
    "\n",
    "with torch.no_grad():\n",
    "    last_image_batch = None\n",
    "    last_gt_mask_batch = None\n",
    "    last_pr_mask_batch = None\n",
    "    for step, (img, gt) in enumerate(tqdm(test_loader)):\n",
    "        img = img.to(device)\n",
    "        gt = gt.to(device)\n",
    "        mask = model(img)\n",
    "        \n",
    "        \n",
    "        # Vis\n",
    "        shaped_image = img.detach().cpu().numpy()[0][0]\n",
    "        shaped_gt = gt.detach().cpu().numpy()[0]\n",
    "        shaped_pr = mask.detach().cpu().numpy()[0]\n",
    "        \n",
    "        threshold = 0.95  # Set your desired threshold value \n",
    "        binary_mask = (shaped_pr > threshold)\n",
    "        \n",
    "       # Compute the Dice coefficient for each sample in the batch\n",
    "        prediction = (mask > threshold)\n",
    "        dice = dice_metric([prediction], [gt])\n",
    "        #hausdorff = hausdorff_distance_metric([prediction], [gt])\n",
    "        mean_iou = mean_iou_metric([prediction], [gt])\n",
    "\n",
    "        # Accumulate the Dice scores and update the number of samples\n",
    "        print(dice)\n",
    "        print(mean_iou)\n",
    "        sum_dice += dice.sum().item()\n",
    "        sum_mean_iou += mean_iou.sum().item()\n",
    "        \n",
    "        num_samples += 8\n",
    "        \n",
    "        # ground_truth = vis_img(shaped_image, shaped_gt)\n",
    "        # predicted = vis_img(shaped_image, binary_mask)\n",
    "        # # Log\n",
    "        # wandb.log({\"Result\": [wandb.Image(ground_truth, caption=\"ground truth\"), \n",
    "        #                       wandb.Image(predicted, caption=\"prediction\")]})\n",
    "\n",
    "# Compute the mean metrics\n",
    "mean_dice = sum_dice / num_samples\n",
    "mean_iou = sum_mean_iou / num_samples\n",
    "\n",
    "print(f\"Mean Dice coefficient: {mean_dice}\")\n",
    "print(f\"Mean IoU: {mean_iou}\")"
   ]
  },
  {
   "cell_type": "code",
   "execution_count": null,
   "id": "218c863d-fda7-4662-ac0e-64d35b14249e",
   "metadata": {},
   "outputs": [],
   "source": []
  }
 ],
 "metadata": {
  "kernelspec": {
   "display_name": "Python",
   "language": "python",
   "name": "python3"
  },
  "language_info": {
   "codemirror_mode": {
    "name": "ipython",
    "version": 3
   },
   "file_extension": ".py",
   "mimetype": "text/x-python",
   "name": "python",
   "nbconvert_exporter": "python",
   "pygments_lexer": "ipython3",
   "version": "3.8.10"
  }
 },
 "nbformat": 4,
 "nbformat_minor": 5
}
